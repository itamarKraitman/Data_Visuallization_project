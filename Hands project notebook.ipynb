{
 "cells": [
  {
   "cell_type": "code",
   "execution_count": 2174,
   "id": "4e22bd87",
   "metadata": {},
   "outputs": [],
   "source": [
    "import pandas as pd\n",
    "import numpy as np\n",
    "import matplotlib.pyplot as plt\n",
    "import seaborn as sns\n",
    "from os import listdir\n",
    "from sklearn.model_selection import train_test_split, GridSearchCV\n",
    "from sklearn.preprocessing import StandardScaler\n",
    "from sklearn.decomposition import PCA\n",
    "from sklearn.linear_model import LogisticRegression\n",
    "from sklearn.neighbors import KNeighborsClassifier\n",
    "from sklearn.ensemble import RandomForestClassifier, StackingClassifier, AdaBoostClassifier\n",
    "from sklearn.tree import DecisionTreeClassifier\n",
    "from xgboost import XGBClassifier\n",
    "from sklearn.metrics import classification_report, confusion_matrix, accuracy_score, f1_score\n",
    "\n",
    "import math\n",
    "\n",
    "import warnings\n",
    "warnings.filterwarnings('ignore')"
   ]
  },
  {
   "cell_type": "markdown",
   "id": "ec70ea7b",
   "metadata": {},
   "source": [
    "## Uploading the data"
   ]
  },
  {
   "cell_type": "code",
   "execution_count": 2175,
   "id": "faeff37c",
   "metadata": {},
   "outputs": [],
   "source": [
    "def upload_data(data):\n",
    "    spontan_list= [] \n",
    "    sync_list= []\n",
    "    alone_list = []\n",
    "    for participant in listdir(complete_data):\n",
    "        for file in listdir(complete_data+participant+'/'):\n",
    "            if file.endswith('Spontan.csv'):\n",
    "                spontan=pd.read_csv(complete_data+participant+'/'+file)\n",
    "            elif file.endswith('Sync.csv'):\n",
    "                sync=pd.read_csv(complete_data+participant+'/'+file)\n",
    "            elif file.endswith('Alone.csv'):\n",
    "                alone=pd.read_csv(complete_data+participant+'/'+file)\n",
    "        spontan_list.append(spontan)\n",
    "        sync_list.append(sync)\n",
    "        alone_list.append(alone)\n",
    "    return spontan_list,sync_list,alone_list"
   ]
  },
  {
   "cell_type": "code",
   "execution_count": 2176,
   "id": "ba5f6483",
   "metadata": {
    "scrolled": true
   },
   "outputs": [
    {
     "name": "stdout",
     "output_type": "stream",
     "text": [
      "number of files is:  9 , 9 , 9 in spontan, sync and alone respectively\n",
      "(9054, 22)\n",
      "(8998, 22)\n",
      "(9050, 22)\n",
      "(8937, 22)\n",
      "(8826, 22)\n",
      "(9054, 22)\n",
      "(9054, 22)\n",
      "(8773, 22)\n",
      "(4375, 22)\n",
      "(9052, 22)\n",
      "(9054, 22)\n",
      "(9039, 22)\n",
      "(9050, 22)\n",
      "(8395, 22)\n",
      "(9046, 22)\n",
      "(9054, 22)\n",
      "(8829, 22)\n",
      "(4500, 22)\n",
      "(4526, 22)\n",
      "(4575, 22)\n",
      "(4482, 22)\n",
      "(4527, 22)\n",
      "(4931, 22)\n",
      "(4526, 22)\n",
      "(4468, 22)\n",
      "(4537, 22)\n",
      "(2250, 22)\n"
     ]
    }
   ],
   "source": [
    "#train set\n",
    "complete_data=(r'C:\\Users\\meirk\\Desktop\\final_project_files\\finalProjectFiles\\extraFiles\\Training/')\n",
    "spontan_list, sync_list ,alone_list = upload_data(complete_data)\n",
    "print (\"number of files is: \",len(spontan_list),',',len(sync_list),',',len(alone_list),\n",
    "       \"in spontan, sync and alone respectively\")\n",
    "#shapes of dfs\n",
    "train_list = [spontan_list,sync_list,alone_list]\n",
    "for list_ in train_list:\n",
    "    for file in list_:\n",
    "        print(file.shape)"
   ]
  },
  {
   "cell_type": "code",
   "execution_count": 2177,
   "id": "7ecc1119",
   "metadata": {},
   "outputs": [
    {
     "name": "stdout",
     "output_type": "stream",
     "text": [
      "number of files in is:  9 , 9 , 9 in spontan, sync and alone respectively\n",
      "(8969, 22)\n",
      "(8986, 22)\n",
      "(4500, 22)\n",
      "(8846, 22)\n",
      "(8965, 22)\n",
      "(4446, 22)\n",
      "(4700, 22)\n",
      "(4614, 22)\n",
      "(2250, 22)\n"
     ]
    }
   ],
   "source": [
    "#validation set\n",
    "complete_data=(r'C:\\Users\\meirk\\Desktop\\final_project_files\\finalProjectFiles\\extraFiles\\Validation/')\n",
    "spontan_list_val, sync_list_val ,alone_list_val = upload_data(complete_data)\n",
    "print (\"number of files in is: \",len(spontan_list),',',len(sync_list),',',len(alone_list),\n",
    "       \"in spontan, sync and alone respectively\")\n",
    "#shapes of dfs\n",
    "validation_list = [spontan_list_val, sync_list_val ,alone_list_val]\n",
    "for list_ in validation_list:\n",
    "    for file in list_:\n",
    "        print(file.shape)"
   ]
  },
  {
   "cell_type": "markdown",
   "id": "775c83ef",
   "metadata": {},
   "source": [
    "We uploaded the data (both training and validation sets) into 3 lists, one for each scenario. Each list contains 9 files, a file for each participant."
   ]
  },
  {
   "cell_type": "code",
   "execution_count": 2178,
   "id": "3518f7e2",
   "metadata": {},
   "outputs": [
    {
     "data": {
      "text/html": [
       "<div>\n",
       "<style scoped>\n",
       "    .dataframe tbody tr th:only-of-type {\n",
       "        vertical-align: middle;\n",
       "    }\n",
       "\n",
       "    .dataframe tbody tr th {\n",
       "        vertical-align: top;\n",
       "    }\n",
       "\n",
       "    .dataframe thead th {\n",
       "        text-align: right;\n",
       "    }\n",
       "</style>\n",
       "<table border=\"1\" class=\"dataframe\">\n",
       "  <thead>\n",
       "    <tr style=\"text-align: right;\">\n",
       "      <th></th>\n",
       "      <th>Time</th>\n",
       "      <th>Frame ID</th>\n",
       "      <th>Hand Type</th>\n",
       "      <th># hands</th>\n",
       "      <th>Position X</th>\n",
       "      <th>Position Y</th>\n",
       "      <th>Position Z</th>\n",
       "      <th>Velocity X</th>\n",
       "      <th>Velocity Y</th>\n",
       "      <th>Velocity Z</th>\n",
       "      <th>...</th>\n",
       "      <th>Yaw</th>\n",
       "      <th>Wrist Pos X</th>\n",
       "      <th>Wrist Pos Y</th>\n",
       "      <th>Wrist Pos Z</th>\n",
       "      <th>Elbow pos X</th>\n",
       "      <th>Elbow Pos Y</th>\n",
       "      <th>Elbow Pos Z</th>\n",
       "      <th>Grab Strenth</th>\n",
       "      <th>Grab Angle</th>\n",
       "      <th>Pinch Strength</th>\n",
       "    </tr>\n",
       "  </thead>\n",
       "  <tbody>\n",
       "    <tr>\n",
       "      <th>0</th>\n",
       "      <td>128.2883</td>\n",
       "      <td>15478</td>\n",
       "      <td>right</td>\n",
       "      <td>1</td>\n",
       "      <td>15.67167</td>\n",
       "      <td>226.2064</td>\n",
       "      <td>20.26470</td>\n",
       "      <td>34.26665</td>\n",
       "      <td>-195.214700</td>\n",
       "      <td>-35.043020</td>\n",
       "      <td>...</td>\n",
       "      <td>-0.277800</td>\n",
       "      <td>46.88831</td>\n",
       "      <td>207.3548</td>\n",
       "      <td>86.23589</td>\n",
       "      <td>203.8337</td>\n",
       "      <td>49.33507</td>\n",
       "      <td>237.4553</td>\n",
       "      <td>0.0</td>\n",
       "      <td>0.206389</td>\n",
       "      <td>0.0</td>\n",
       "    </tr>\n",
       "    <tr>\n",
       "      <th>1</th>\n",
       "      <td>128.3048</td>\n",
       "      <td>15480</td>\n",
       "      <td>right</td>\n",
       "      <td>1</td>\n",
       "      <td>16.24119</td>\n",
       "      <td>222.9389</td>\n",
       "      <td>20.11781</td>\n",
       "      <td>36.16443</td>\n",
       "      <td>-180.093900</td>\n",
       "      <td>-4.052799</td>\n",
       "      <td>...</td>\n",
       "      <td>-0.277763</td>\n",
       "      <td>47.54861</td>\n",
       "      <td>205.6568</td>\n",
       "      <td>86.42250</td>\n",
       "      <td>203.9553</td>\n",
       "      <td>47.88272</td>\n",
       "      <td>238.4482</td>\n",
       "      <td>0.0</td>\n",
       "      <td>0.243050</td>\n",
       "      <td>0.0</td>\n",
       "    </tr>\n",
       "    <tr>\n",
       "      <th>2</th>\n",
       "      <td>128.3218</td>\n",
       "      <td>15482</td>\n",
       "      <td>right</td>\n",
       "      <td>1</td>\n",
       "      <td>16.72461</td>\n",
       "      <td>220.9709</td>\n",
       "      <td>19.94972</td>\n",
       "      <td>26.35298</td>\n",
       "      <td>-95.088190</td>\n",
       "      <td>-11.157620</td>\n",
       "      <td>...</td>\n",
       "      <td>-0.278792</td>\n",
       "      <td>48.15030</td>\n",
       "      <td>204.5182</td>\n",
       "      <td>86.35149</td>\n",
       "      <td>204.6231</td>\n",
       "      <td>45.35921</td>\n",
       "      <td>236.8544</td>\n",
       "      <td>0.0</td>\n",
       "      <td>0.281134</td>\n",
       "      <td>0.0</td>\n",
       "    </tr>\n",
       "    <tr>\n",
       "      <th>3</th>\n",
       "      <td>128.3384</td>\n",
       "      <td>15484</td>\n",
       "      <td>right</td>\n",
       "      <td>1</td>\n",
       "      <td>17.09016</td>\n",
       "      <td>219.7124</td>\n",
       "      <td>19.67679</td>\n",
       "      <td>19.46804</td>\n",
       "      <td>-61.755180</td>\n",
       "      <td>-21.303780</td>\n",
       "      <td>...</td>\n",
       "      <td>-0.279768</td>\n",
       "      <td>48.64175</td>\n",
       "      <td>203.9989</td>\n",
       "      <td>86.16056</td>\n",
       "      <td>204.9939</td>\n",
       "      <td>44.18692</td>\n",
       "      <td>236.0927</td>\n",
       "      <td>0.0</td>\n",
       "      <td>0.277691</td>\n",
       "      <td>0.0</td>\n",
       "    </tr>\n",
       "    <tr>\n",
       "      <th>4</th>\n",
       "      <td>128.3551</td>\n",
       "      <td>15486</td>\n",
       "      <td>right</td>\n",
       "      <td>1</td>\n",
       "      <td>17.46017</td>\n",
       "      <td>219.3652</td>\n",
       "      <td>19.13128</td>\n",
       "      <td>21.94964</td>\n",
       "      <td>-8.355943</td>\n",
       "      <td>-35.081790</td>\n",
       "      <td>...</td>\n",
       "      <td>-0.278629</td>\n",
       "      <td>48.93135</td>\n",
       "      <td>203.3777</td>\n",
       "      <td>85.59017</td>\n",
       "      <td>204.5952</td>\n",
       "      <td>42.68003</td>\n",
       "      <td>235.2896</td>\n",
       "      <td>0.0</td>\n",
       "      <td>0.283008</td>\n",
       "      <td>0.0</td>\n",
       "    </tr>\n",
       "  </tbody>\n",
       "</table>\n",
       "<p>5 rows × 22 columns</p>\n",
       "</div>"
      ],
      "text/plain": [
       "       Time   Frame ID  Hand Type   # hands   Position X   Position Y  \\\n",
       "0  128.2883      15478      right         1     15.67167     226.2064   \n",
       "1  128.3048      15480      right         1     16.24119     222.9389   \n",
       "2  128.3218      15482      right         1     16.72461     220.9709   \n",
       "3  128.3384      15484      right         1     17.09016     219.7124   \n",
       "4  128.3551      15486      right         1     17.46017     219.3652   \n",
       "\n",
       "    Position Z   Velocity X   Velocity Y   Velocity Z  ...       Yaw  \\\n",
       "0     20.26470     34.26665  -195.214700   -35.043020  ... -0.277800   \n",
       "1     20.11781     36.16443  -180.093900    -4.052799  ... -0.277763   \n",
       "2     19.94972     26.35298   -95.088190   -11.157620  ... -0.278792   \n",
       "3     19.67679     19.46804   -61.755180   -21.303780  ... -0.279768   \n",
       "4     19.13128     21.94964    -8.355943   -35.081790  ... -0.278629   \n",
       "\n",
       "    Wrist Pos X   Wrist Pos Y   Wrist Pos Z   Elbow pos X   Elbow Pos Y  \\\n",
       "0      46.88831      207.3548      86.23589      203.8337      49.33507   \n",
       "1      47.54861      205.6568      86.42250      203.9553      47.88272   \n",
       "2      48.15030      204.5182      86.35149      204.6231      45.35921   \n",
       "3      48.64175      203.9989      86.16056      204.9939      44.18692   \n",
       "4      48.93135      203.3777      85.59017      204.5952      42.68003   \n",
       "\n",
       "    Elbow Pos Z   Grab Strenth   Grab Angle   Pinch Strength  \n",
       "0      237.4553            0.0     0.206389              0.0  \n",
       "1      238.4482            0.0     0.243050              0.0  \n",
       "2      236.8544            0.0     0.281134              0.0  \n",
       "3      236.0927            0.0     0.277691              0.0  \n",
       "4      235.2896            0.0     0.283008              0.0  \n",
       "\n",
       "[5 rows x 22 columns]"
      ]
     },
     "execution_count": 2178,
     "metadata": {},
     "output_type": "execute_result"
    }
   ],
   "source": [
    "#HandRight\n",
    "right_hand = pd.read_csv(r'C:\\Users\\meirk\\Desktop\\final_project_files\\finalProjectFiles\\extraFiles\\HandRight.csv')\n",
    "right_hand.head()"
   ]
  },
  {
   "cell_type": "code",
   "execution_count": 2179,
   "id": "42401344",
   "metadata": {},
   "outputs": [
    {
     "data": {
      "text/plain": [
       "(4812, 22)"
      ]
     },
     "execution_count": 2179,
     "metadata": {},
     "output_type": "execute_result"
    }
   ],
   "source": [
    "right_hand.shape"
   ]
  },
  {
   "cell_type": "markdown",
   "id": "13baa0ff",
   "metadata": {},
   "source": [
    "## preprocessing"
   ]
  },
  {
   "cell_type": "markdown",
   "id": "4a3ae159",
   "metadata": {},
   "source": [
    "###### Search for NaN values"
   ]
  },
  {
   "cell_type": "code",
   "execution_count": 2180,
   "id": "d9a19249",
   "metadata": {},
   "outputs": [
    {
     "name": "stdout",
     "output_type": "stream",
     "text": [
      "train set\n",
      "number of NaN values in train set is:  0\n",
      "validation set\n",
      "number of NaN values in validation test is:  0\n",
      "right hand set\n",
      "number of NaN values in right hand set is:  2304\n"
     ]
    }
   ],
   "source": [
    "nan_sum = 0\n",
    "#train set\n",
    "print(\"train set\")\n",
    "for list_ in train_list:\n",
    "    for file in list_:\n",
    "        nan_sum += file.isna().sum().sum()\n",
    "print(\"number of NaN values in train set is: \",nan_sum)\n",
    "\n",
    "#validation set\n",
    "print(\"validation set\")\n",
    "validation_list = [spontan_list_val, sync_list_val ,alone_list_val]\n",
    "for list_ in validation_list:\n",
    "    for file in list_:\n",
    "        nan_sum = file.isna().sum().sum()\n",
    "print(\"number of NaN values in validation test is: \",nan_sum)\n",
    "\n",
    "#right hand\n",
    "print(\"right hand set\")\n",
    "print(\"number of NaN values in right hand set is: \",right_hand.isna().sum().sum())"
   ]
  },
  {
   "cell_type": "markdown",
   "id": "772ba123",
   "metadata": {},
   "source": [
    "right_hand  dataFrame has 2304 NaN values."
   ]
  },
  {
   "cell_type": "code",
   "execution_count": 2181,
   "id": "66953191",
   "metadata": {},
   "outputs": [
    {
     "data": {
      "text/plain": [
       "Time                 0\n",
       " Frame ID            0\n",
       " Hand Type           0\n",
       " # hands             0\n",
       " Position X          0\n",
       " Position Y          0\n",
       " Position Z          0\n",
       " Velocity X          0\n",
       " Velocity Y          0\n",
       " Velocity Z          0\n",
       " Pitch               0\n",
       " Roll                0\n",
       " Yaw                 0\n",
       " Wrist Pos X       384\n",
       " Wrist Pos Y       384\n",
       " Wrist Pos Z       384\n",
       " Elbow pos X       384\n",
       " Elbow Pos Y       384\n",
       " Elbow Pos Z       384\n",
       " Grab Strenth        0\n",
       " Grab Angle          0\n",
       " Pinch Strength      0\n",
       "dtype: int64"
      ]
     },
     "execution_count": 2181,
     "metadata": {},
     "output_type": "execute_result"
    }
   ],
   "source": [
    "right_hand.isna().sum()"
   ]
  },
  {
   "cell_type": "markdown",
   "id": "68258000",
   "metadata": {},
   "source": [
    "As we already saw, right hand df has 4812 values. Without NaN number it contains:"
   ]
  },
  {
   "cell_type": "code",
   "execution_count": 2182,
   "id": "64a6bcce",
   "metadata": {},
   "outputs": [
    {
     "name": "stdout",
     "output_type": "stream",
     "text": [
      "384\n"
     ]
    }
   ],
   "source": [
    "print(len(right_hand.index) - len(right_hand.dropna().index))"
   ]
  },
  {
   "cell_type": "markdown",
   "id": "9dea14c5",
   "metadata": {},
   "source": [
    "384 frames contains NaN values, lets drop them."
   ]
  },
  {
   "cell_type": "code",
   "execution_count": 2183,
   "id": "50d92434",
   "metadata": {},
   "outputs": [
    {
     "data": {
      "text/plain": [
       "4428"
      ]
     },
     "execution_count": 2183,
     "metadata": {},
     "output_type": "execute_result"
    }
   ],
   "source": [
    "right_hand = right_hand.dropna()\n",
    "len(right_hand.index)"
   ]
  },
  {
   "cell_type": "code",
   "execution_count": 2184,
   "id": "5e748809",
   "metadata": {},
   "outputs": [
    {
     "data": {
      "text/plain": [
       "Time               0\n",
       " Frame ID          0\n",
       " Hand Type         0\n",
       " # hands           0\n",
       " Position X        0\n",
       " Position Y        0\n",
       " Position Z        0\n",
       " Velocity X        0\n",
       " Velocity Y        0\n",
       " Velocity Z        0\n",
       " Pitch             0\n",
       " Roll              0\n",
       " Yaw               0\n",
       " Wrist Pos X       0\n",
       " Wrist Pos Y       0\n",
       " Wrist Pos Z       0\n",
       " Elbow pos X       0\n",
       " Elbow Pos Y       0\n",
       " Elbow Pos Z       0\n",
       " Grab Strenth      0\n",
       " Grab Angle        0\n",
       " Pinch Strength    0\n",
       "dtype: int64"
      ]
     },
     "execution_count": 2184,
     "metadata": {},
     "output_type": "execute_result"
    }
   ],
   "source": [
    "right_hand.isna().sum()"
   ]
  },
  {
   "cell_type": "markdown",
   "id": "9ccbe192",
   "metadata": {},
   "source": [
    "###### removing duplicate rows"
   ]
  },
  {
   "cell_type": "code",
   "execution_count": 2185,
   "id": "aa90924c",
   "metadata": {},
   "outputs": [],
   "source": [
    "#train set\n",
    "for list_ in train_list:\n",
    "    for i in range(len(list_)):\n",
    "        list_[i] = list_[i].drop_duplicates()\n",
    "\n",
    "#validation set\n",
    "for list_ in validation_list:\n",
    "    for i in range(len(list_)):\n",
    "        list_[i] = list_[i].drop_duplicates()\n",
    "\n",
    "#right hand\n",
    "right_hand = right_hand.drop_duplicates()"
   ]
  },
  {
   "cell_type": "markdown",
   "id": "d7433a4e",
   "metadata": {},
   "source": [
    "###### converting 'Hand Type' to ones - right and zeros - left"
   ]
  },
  {
   "cell_type": "code",
   "execution_count": 2186,
   "id": "89a989af",
   "metadata": {},
   "outputs": [],
   "source": [
    "def convert_to_1and0 (column):\n",
    "    for index in range(len(column)):\n",
    "        if column.loc[index] == 'right':\n",
    "            column.loc[index] = 1\n",
    "        else:\n",
    "            column.loc[index] = 0    "
   ]
  },
  {
   "cell_type": "code",
   "execution_count": 2187,
   "id": "8040a52f",
   "metadata": {},
   "outputs": [],
   "source": [
    "# train list\n",
    "#spontan list\n",
    "for i in range(len(spontan_list)):\n",
    "    spontan_list[i][' Hand Type']= spontan_list[i][' Hand Type'].map({'right':1,'left':0})\n",
    "    spontan_list[i][' Hand Type'] = pd.to_numeric(spontan_list[i][' Hand Type'], errors= 'coerce')\n",
    "#sync list\n",
    "for i in range(len(sync_list)):\n",
    "    sync_list[i][' Hand Type'] = sync_list[i][' Hand Type'].map({'right':1,'left':0})\n",
    "    sync_list[i][' Hand Type'] = pd.to_numeric(sync_list[i][' Hand Type'], errors= 'coerce')\n",
    "#alone list\n",
    "for i in range(len(alone_list)):\n",
    "    alone_list[i][' Hand Type']=alone_list[i][' Hand Type'].map({'right':1,'left':0})\n",
    "    alone_list[i][' Hand Type'] = pd.to_numeric(alone_list[i][' Hand Type'], errors= 'coerce')\n",
    "\n",
    "#validation set\n",
    "#spontan\n",
    "for i in range(len(spontan_list_val)):\n",
    "    spontan_list_val[i][' Hand Type']=spontan_list_val[i][' Hand Type'].map({'right':1,'left':0})\n",
    "    spontan_list_val[i][' Hand Type'] = pd.to_numeric(spontan_list_val[i][' Hand Type'], errors= 'coerce')\n",
    "#sync\n",
    "for i in range(len(sync_list_val)):\n",
    "    sync_list_val[i][' Hand Type']=sync_list_val[i][' Hand Type'].map({'right':1,'left':0})\n",
    "    sync_list_val[i][' Hand Type'] = pd.to_numeric(sync_list_val[i][' Hand Type'], errors= 'coerce')\n",
    "#alone\n",
    "for i in range(len(alone_list_val)):\n",
    "    alone_list_val[i][' Hand Type']=alone_list_val[i][' Hand Type'].map({'right':1,'left':0})\n",
    "    alone_list_val[i][' Hand Type'] = pd.to_numeric(alone_list_val[i][' Hand Type'], errors= 'coerce')\n",
    "\n",
    "#right hand set\n",
    "right_hand[' Hand Type']=right_hand[' Hand Type'].map({'right':1,'left':0})\n",
    "right_hand[' Hand Type'] = pd.to_numeric(right_hand[' Hand Type'], errors= 'coerce')"
   ]
  },
  {
   "cell_type": "markdown",
   "id": "fb702c47",
   "metadata": {},
   "source": [
    "Checking on the train set if the method above worked as expected"
   ]
  },
  {
   "cell_type": "code",
   "execution_count": 2188,
   "id": "267cdaca",
   "metadata": {},
   "outputs": [
    {
     "name": "stdout",
     "output_type": "stream",
     "text": [
      "df number  1\n",
      "0    4527\n",
      "1    4527\n",
      "Name:  Hand Type, dtype: int64\n",
      "df number  2\n",
      "0    4527\n",
      "1    4471\n",
      "Name:  Hand Type, dtype: int64\n",
      "df number  3\n",
      "0    4526\n",
      "1    4524\n",
      "Name:  Hand Type, dtype: int64\n",
      "df number  4\n",
      "0    4472\n",
      "1    4465\n",
      "Name:  Hand Type, dtype: int64\n",
      "df number  5\n",
      "0    4527\n",
      "1    4299\n",
      "Name:  Hand Type, dtype: int64\n",
      "df number  6\n",
      "0    4527\n",
      "1    4527\n",
      "Name:  Hand Type, dtype: int64\n",
      "df number  7\n",
      "0    4527\n",
      "1    4527\n",
      "Name:  Hand Type, dtype: int64\n",
      "df number  8\n",
      "1    4527\n",
      "0    4246\n",
      "Name:  Hand Type, dtype: int64\n",
      "df number  9\n",
      "1    2239\n",
      "0    2136\n",
      "Name:  Hand Type, dtype: int64\n",
      "df number  10\n",
      "0    4526\n",
      "1    4526\n",
      "Name:  Hand Type, dtype: int64\n",
      "df number  11\n",
      "0    4527\n",
      "1    4527\n",
      "Name:  Hand Type, dtype: int64\n",
      "df number  12\n",
      "0    4527\n",
      "1    4512\n",
      "Name:  Hand Type, dtype: int64\n",
      "df number  13\n",
      "0    4525\n",
      "1    4525\n",
      "Name:  Hand Type, dtype: int64\n",
      "df number  14\n",
      "1    4444\n",
      "0    3951\n",
      "Name:  Hand Type, dtype: int64\n",
      "df number  15\n",
      "1    4527\n",
      "0    4519\n",
      "Name:  Hand Type, dtype: int64\n",
      "df number  16\n",
      "0    4527\n",
      "1    4527\n",
      "Name:  Hand Type, dtype: int64\n",
      "df number  17\n",
      "1    4527\n",
      "0    4302\n",
      "Name:  Hand Type, dtype: int64\n",
      "df number  18\n",
      "0    2250\n",
      "1    2250\n",
      "Name:  Hand Type, dtype: int64\n",
      "df number  19\n",
      "0    4526\n",
      "Name:  Hand Type, dtype: int64\n",
      "df number  20\n",
      "0    4527\n",
      "1      48\n",
      "Name:  Hand Type, dtype: int64\n",
      "df number  21\n",
      "0    4330\n",
      "1     152\n",
      "Name:  Hand Type, dtype: int64\n",
      "df number  22\n",
      "0    4527\n",
      "Name:  Hand Type, dtype: int64\n",
      "df number  23\n",
      "0    4526\n",
      "1     405\n",
      "Name:  Hand Type, dtype: int64\n",
      "df number  24\n",
      "0    4526\n",
      "Name:  Hand Type, dtype: int64\n",
      "df number  25\n",
      "0    3965\n",
      "1     503\n",
      "Name:  Hand Type, dtype: int64\n",
      "df number  26\n",
      "0    4486\n",
      "1      51\n",
      "Name:  Hand Type, dtype: int64\n",
      "df number  27\n",
      "0    2250\n",
      "Name:  Hand Type, dtype: int64\n"
     ]
    }
   ],
   "source": [
    "i = 1\n",
    "#train set\n",
    "for list_ in train_list:\n",
    "    for df in list_:\n",
    "        print(\"df number \",i)\n",
    "        print(df[' Hand Type'].value_counts())\n",
    "        i = i + 1"
   ]
  },
  {
   "cell_type": "markdown",
   "id": "05b802de",
   "metadata": {},
   "source": [
    "It worked well."
   ]
  },
  {
   "cell_type": "code",
   "execution_count": 2189,
   "id": "cc183704",
   "metadata": {},
   "outputs": [
    {
     "name": "stdout",
     "output_type": "stream",
     "text": [
      "<class 'pandas.core.frame.DataFrame'>\n",
      "Int64Index: 9054 entries, 0 to 9053\n",
      "Data columns (total 22 columns):\n",
      " #   Column           Non-Null Count  Dtype  \n",
      "---  ------           --------------  -----  \n",
      " 0   Time             9054 non-null   float64\n",
      " 1    Frame ID        9054 non-null   int64  \n",
      " 2    Hand Type       9054 non-null   int64  \n",
      " 3    # hands         9054 non-null   int64  \n",
      " 4    Position X      9054 non-null   float64\n",
      " 5    Position Y      9054 non-null   float64\n",
      " 6    Position Z      9054 non-null   float64\n",
      " 7    Velocity X      9054 non-null   float64\n",
      " 8    Velocity Y      9054 non-null   float64\n",
      " 9    Velocity Z      9054 non-null   float64\n",
      " 10   Pitch           9054 non-null   float64\n",
      " 11   Roll            9054 non-null   float64\n",
      " 12   Yaw             9054 non-null   float64\n",
      " 13   Wrist Pos X     9054 non-null   float64\n",
      " 14   Wrist Pos Y     9054 non-null   float64\n",
      " 15   Wrist Pos Z     9054 non-null   float64\n",
      " 16   Elbow pos X     9054 non-null   float64\n",
      " 17   Elbow Pos Y     9054 non-null   float64\n",
      " 18   Elbow Pos Z     9054 non-null   float64\n",
      " 19   Grab Strenth    9054 non-null   float64\n",
      " 20   Grab Angle      9054 non-null   float64\n",
      " 21   Pinch Strength  9054 non-null   float64\n",
      "dtypes: float64(19), int64(3)\n",
      "memory usage: 1.6 MB\n"
     ]
    }
   ],
   "source": [
    "spontan_list[0].info()"
   ]
  },
  {
   "cell_type": "markdown",
   "id": "2e5460f9",
   "metadata": {},
   "source": [
    "Hand Type was changed to int instead of Object."
   ]
  },
  {
   "cell_type": "markdown",
   "id": "91118579",
   "metadata": {},
   "source": [
    "###### Removing first 7 seconds"
   ]
  },
  {
   "cell_type": "code",
   "execution_count": 2190,
   "id": "3da17018",
   "metadata": {},
   "outputs": [],
   "source": [
    "def remove_7_seconds(df):\n",
    "    time_to_drop = df['Time'][0]\n",
    "    time_to_drop = time_to_drop + 7\n",
    "    print(\"time to drop for df is \",time_to_drop)\n",
    "    while df['Time'][0] < time_to_drop:\n",
    "        df = df.drop(0, axis = 0)\n",
    "    return df"
   ]
  },
  {
   "cell_type": "code",
   "execution_count": 2191,
   "id": "7a1c9f7f",
   "metadata": {},
   "outputs": [
    {
     "name": "stdout",
     "output_type": "stream",
     "text": [
      "time to drop for df is  342.9984\n",
      "time to drop for df is  392.3023\n",
      "time to drop for df is  533.4969\n",
      "time to drop for df is  382.6675\n",
      "time to drop for df is  568.7278\n",
      "time to drop for df is  386.7184\n",
      "time to drop for df is  499.7171\n",
      "time to drop for df is  182.5415\n",
      "time to drop for df is  605.6176\n",
      "time to drop for df is  434.231\n",
      "time to drop for df is  613.8324\n",
      "time to drop for df is  706.221\n",
      "time to drop for df is  471.5643\n",
      "time to drop for df is  654.2784\n",
      "time to drop for df is  480.3199\n",
      "time to drop for df is  701.4501\n",
      "time to drop for df is  298.0203\n",
      "time to drop for df is  788.3885\n",
      "time to drop for df is  525.8087\n",
      "time to drop for df is  503.0675\n",
      "time to drop for df is  619.9247\n",
      "time to drop for df is  295.7583\n",
      "time to drop for df is  464.7846\n",
      "time to drop for df is  568.4594\n",
      "time to drop for df is  587.1392\n",
      "time to drop for df is  393.9574\n",
      "time to drop for df is  696.6486\n",
      "time to drop for df is  779.2799\n",
      "time to drop for df is  63.73743\n",
      "time to drop for df is  823.9093\n",
      "time to drop for df is  872.9976\n",
      "time to drop for df is  153.3888\n",
      "time to drop for df is  930.9424\n",
      "time to drop for df is  962.0626\n",
      "time to drop for df is  240.9602\n",
      "time to drop for df is  728.9436\n"
     ]
    }
   ],
   "source": [
    "#train set\n",
    "for list_ in train_list:\n",
    "    for df in list_:\n",
    "        time_to_drop = df['Time'][0]\n",
    "        time_to_drop = time_to_drop + 7\n",
    "        print(\"time to drop for df is \",time_to_drop)\n",
    "        df_ = df.drop(df[df['Time']<time_to_drop].index, inplace=True)\n",
    "\n",
    "#validation set\n",
    "for list_ in validation_list:\n",
    "    for df in list_:\n",
    "        time_to_drop = df['Time'][0]\n",
    "        time_to_drop = time_to_drop + 7\n",
    "        print(\"time to drop for df is \",time_to_drop)\n",
    "        df_ = df.drop(df[df['Time']<time_to_drop].index, inplace= True)"
   ]
  },
  {
   "cell_type": "code",
   "execution_count": 2192,
   "id": "58a473ac",
   "metadata": {},
   "outputs": [
    {
     "name": "stdout",
     "output_type": "stream",
     "text": [
      "time to drop for hand right df is  135.2883\n"
     ]
    }
   ],
   "source": [
    "#right hand\n",
    "time_to_drop = right_hand['Time'][0]\n",
    "time_to_drop = time_to_drop + 7\n",
    "print(\"time to drop for hand right df is \",time_to_drop)\n",
    "right_hand = right_hand.drop(right_hand[right_hand['Time']<time_to_drop].index)"
   ]
  },
  {
   "cell_type": "code",
   "execution_count": 2193,
   "id": "e0402f3e",
   "metadata": {},
   "outputs": [
    {
     "name": "stdout",
     "output_type": "stream",
     "text": [
      "8208\n",
      "8152\n",
      "8205\n",
      "8146\n",
      "8046\n",
      "8208\n",
      "8208\n",
      "7927\n",
      "3953\n",
      "8206\n",
      "8208\n",
      "8193\n",
      "8204\n",
      "7549\n",
      "8200\n",
      "8208\n",
      "7983\n",
      "4078\n",
      "4103\n",
      "4152\n",
      "4059\n",
      "4104\n",
      "4299\n",
      "4103\n",
      "4045\n",
      "4129\n",
      "2040\n",
      "8208\n",
      "8140\n",
      "4078\n",
      "8000\n",
      "8119\n",
      "4024\n",
      "4277\n",
      "4103\n",
      "2039\n",
      "4007\n"
     ]
    }
   ],
   "source": [
    "#train set\n",
    "for df in spontan_list:\n",
    "    print(len(df))\n",
    "for df in sync_list:\n",
    "    print(len(df))\n",
    "for df in alone_list:\n",
    "    print(len(df))\n",
    "\n",
    "#validation set\n",
    "for df in spontan_list_val:\n",
    "    print(len(df))\n",
    "for df in sync_list_val:\n",
    "    print(len(df))\n",
    "for df in alone_list_val:\n",
    "    print(len(df))\n",
    "\n",
    "#right hand\n",
    "print(len(right_hand))"
   ]
  },
  {
   "cell_type": "markdown",
   "id": "572c9409",
   "metadata": {},
   "source": [
    "###### Taking each 5th row"
   ]
  },
  {
   "cell_type": "code",
   "execution_count": 2194,
   "id": "582e7b0e",
   "metadata": {},
   "outputs": [],
   "source": [
    "#train set\n",
    "for i in range(len(spontan_list)):\n",
    "    spontan_list[i] = spontan_list[i].iloc[::5, :]\n",
    "for i in range(len(sync_list)):\n",
    "    sync_list[i] = sync_list[i].iloc[::5, :]\n",
    "for i in range(len(alone_list)):\n",
    "    alone_list[i] = alone_list[i].iloc[::5, :]\n",
    "\n",
    "#validation set\n",
    "for i in range(len(spontan_list_val)):\n",
    "    spontan_list_val[i] = spontan_list_val[i].iloc[::5, :]\n",
    "for i in range(len(sync_list_val)):\n",
    "    sync_list_val[i].iloc[::5, :]\n",
    "for i in range(len(alone_list_val)):\n",
    "    alone_list_val[i].iloc[::5, :]\n",
    "\n",
    "#right hand\n",
    "right_hand = right_hand.iloc[::5, :]"
   ]
  },
  {
   "cell_type": "code",
   "execution_count": 2195,
   "id": "82274155",
   "metadata": {},
   "outputs": [],
   "source": [
    "#reindexing\n",
    "#Reindexing dataFrames to start from 0\n",
    "#right hand\n",
    "right_hand.index = range(len(right_hand))\n",
    "\n",
    "#train set\n",
    "for df in spontan_list:\n",
    "    df.index = range(len(df))\n",
    "for df in sync_list:\n",
    "    df.index = range(len(df))\n",
    "for df in alone_list:\n",
    "    df.index = range(len(df))\n",
    "\n",
    "#validation set\n",
    "for df in spontan_list_val:\n",
    "    df.index = range(len(df))\n",
    "for df in sync_list_val:\n",
    "    df.index = range(len(df))\n",
    "for df in alone_list_val:\n",
    "    df.index = range(len(df))"
   ]
  },
  {
   "cell_type": "code",
   "execution_count": 2196,
   "id": "41f01e56",
   "metadata": {},
   "outputs": [
    {
     "name": "stdout",
     "output_type": "stream",
     "text": [
      "1642\n",
      "1631\n",
      "1641\n",
      "1630\n",
      "1610\n",
      "1642\n",
      "1642\n",
      "1586\n",
      "791\n",
      "1642\n",
      "1642\n",
      "1639\n",
      "1641\n",
      "1510\n",
      "1640\n",
      "1642\n",
      "1597\n",
      "816\n",
      "821\n",
      "831\n",
      "812\n",
      "821\n",
      "860\n",
      "821\n",
      "809\n",
      "826\n",
      "408\n",
      "1642\n",
      "1628\n",
      "816\n",
      "8000\n",
      "8119\n",
      "4024\n",
      "4277\n",
      "4103\n",
      "2039\n",
      "802\n"
     ]
    }
   ],
   "source": [
    "#check if it works correctly\n",
    "for df in spontan_list:\n",
    "    print(len(df))\n",
    "for df in sync_list:\n",
    "    print(len(df))\n",
    "for df in alone_list:\n",
    "    print(len(df))\n",
    "\n",
    "#validation set\n",
    "for df in spontan_list_val:\n",
    "    print(len(df))\n",
    "for df in sync_list_val:\n",
    "    print(len(df))\n",
    "for df in alone_list_val:\n",
    "    print(len(df))\n",
    "\n",
    "#right hand\n",
    "print(len(right_hand))"
   ]
  },
  {
   "cell_type": "markdown",
   "id": "4bc6cb17",
   "metadata": {},
   "source": [
    "it worked."
   ]
  },
  {
   "cell_type": "markdown",
   "id": "c17eb8ea",
   "metadata": {},
   "source": [
    "###### removing rowes with incorrect number of hands"
   ]
  },
  {
   "cell_type": "code",
   "execution_count": 2198,
   "id": "40e4852e",
   "metadata": {},
   "outputs": [],
   "source": [
    "#spontan\n",
    "for i in range(len(spontan_list)):\n",
    "    spontan_copy = spontan_list[i].copy()\n",
    "    spontan_list[i] = spontan_copy[spontan_copy[' # hands'] == 2]\n",
    "\n",
    "for i in range(len(spontan_list_val)):\n",
    "    spontan_copy = spontan_list_val[i].copy()\n",
    "    spontan_list_val[i] = spontan_copy[spontan_copy[' # hands'] == 2]\n",
    "    \n",
    "#sync\n",
    "for i in range(len(sync_list)):\n",
    "    sync_copy = sync_list[i].copy()\n",
    "    sync_list[i] = sync_copy[sync_copy[' # hands'] == 2]\n",
    "\n",
    "for i in range(len(sync_list_val)):\n",
    "    sync_copy = sync_list_val[i].copy()\n",
    "    sync_list_val[i] = sync_copy[sync_copy[' # hands'] == 2]\n",
    "    \n",
    "#alone\n",
    "for i in range(len(alone_list)):\n",
    "    alone_copy = alone_list[i].copy()\n",
    "    alone_list[i] = alone_copy[alone_copy[' # hands'] == 1]\n",
    "    \n",
    "for i in range(len(alone_list_val)):\n",
    "    alone_copy = alone_list_val[i].copy()\n",
    "    alone_list_val[i] = alone_copy[alone_copy[' # hands'] == 1]\n",
    "    \n",
    "#right hand\n",
    "right_hand = right_hand[right_hand[' Hand Type'] == 1]"
   ]
  },
  {
   "cell_type": "code",
   "execution_count": 2199,
   "id": "9e76af8f",
   "metadata": {},
   "outputs": [],
   "source": [
    "#reindexing again!\n",
    "#Reindexing dataFrames to start from 0\n",
    "#right hand\n",
    "right_hand.index = range(len(right_hand))\n",
    "#train set\n",
    "for df in spontan_list:\n",
    "    df.index = range(len(df))\n",
    "for df in sync_list:\n",
    "    df.index = range(len(df))\n",
    "for df in alone_list:\n",
    "    df.index = range(len(df))\n",
    "#validation set\n",
    "for df in spontan_list_val:\n",
    "    df.index = range(len(df))\n",
    "for df in sync_list_val:\n",
    "    df.index = range(len(df))\n",
    "for df in alone_list_val:\n",
    "    df.index = range(len(df))"
   ]
  },
  {
   "cell_type": "markdown",
   "id": "629d3f9a",
   "metadata": {},
   "source": [
    "###### Merging alone and right hand"
   ]
  },
  {
   "cell_type": "code",
   "execution_count": 2201,
   "id": "b8147427",
   "metadata": {},
   "outputs": [],
   "source": [
    "#training\n",
    "right_hand_expand = right_hand\n",
    "for i in range(len(alone_list)):    \n",
    "    while (len(right_hand_expand) < len(alone_list[i])): \n",
    "        right_hand_expand = pd.concat([right_hand_expand, right_hand], ignore_index = True)\n",
    "    rows_to_drop = len(right_hand_expand) - len(alone_list[i]) \n",
    "    \n",
    "    right_hand_expand.drop(right_hand_expand.tail(rows_to_drop).index, inplace = True)\n",
    "    right_hand_expand = right_hand_expand.reset_index() \n",
    "    right_hand_expand = right_hand_expand.drop(['index'], axis = 1)\n",
    "    \n",
    "    alone_list[i] = pd.concat([right_hand_expand, alone_list[i]]).sort_index(kind='merge') #merging\n",
    "    alone_list[i] = alone_list[i].reset_index() #reindexing\n",
    "    alone_list[i] = alone_list[i].drop(['index'], axis = 1)\n",
    "\n",
    "#validation\n",
    "right_hand_expand = right_hand\n",
    "for i in range(len(alone_list_val)):    \n",
    "    while (len(right_hand_expand) < len(alone_list_val[i])): \n",
    "        right_hand_expand = pd.concat([right_hand_expand, right_hand], ignore_index = True)\n",
    "    rows_to_drop = len(right_hand_expand) - len(alone_list_val[i]) \n",
    "    \n",
    "    right_hand_expand.drop(right_hand_expand.tail(rows_to_drop).index, inplace = True)\n",
    "    right_hand_expand = right_hand_expand.reset_index() \n",
    "    right_hand_expand = right_hand_expand.drop(['index'], axis = 1)\n",
    "    \n",
    "    alone_list_val[i] = pd.concat([right_hand_expand, alone_list_val[i]]).sort_index(kind='merge') #merging\n",
    "    alone_list_val[i] = alone_list_val[i].reset_index() #reindexing\n",
    "    alone_list_val[i] = alone_list_val[i].drop(['index'], axis = 1)"
   ]
  },
  {
   "cell_type": "markdown",
   "id": "6a8b4524",
   "metadata": {},
   "source": [
    "#### Combining all dataFrames into one"
   ]
  },
  {
   "cell_type": "markdown",
   "id": "4ba65a9f",
   "metadata": {},
   "source": [
    "Untill this moment I worked with lists of dataFrames, now I will merge them all to one dataFrame according scenario- spontan, sync and alone"
   ]
  },
  {
   "cell_type": "code",
   "execution_count": 2203,
   "id": "020f1efa",
   "metadata": {},
   "outputs": [],
   "source": [
    "#making dataFrame for each scenario\n",
    "\n",
    "#train set\n",
    "#spontan\n",
    "spontan_list_final = []\n",
    "for i in range(len(spontan_list)):\n",
    "    spontan_list_final.append(spontan_list[i])\n",
    "spontan_final = pd.concat(spontan_list_final)\n",
    "#sync\n",
    "sync_list_final = []\n",
    "for i in range(len(sync_list)):\n",
    "    sync_list_final.append(sync_list[i])\n",
    "sync_final = pd.concat(sync_list_final)\n",
    "#alone\n",
    "alone_list_final = []\n",
    "for i in range(len(alone_list)):\n",
    "    alone_list_final.append(alone_list[i])\n",
    "alone_final = pd.concat(alone_list_final)\n",
    "\n",
    "#validation set\n",
    "#spontan\n",
    "spontan_list_final_val = []\n",
    "for i in range(len(spontan_list_val)):\n",
    "    spontan_list_final_val.append(spontan_list_val[i])\n",
    "spontan_final_val = pd.concat(spontan_list_final_val)\n",
    "#sync\n",
    "sync_list_final_val = []\n",
    "for i in range(len(sync_list_val)):\n",
    "    sync_list_final_val.append(sync_list_val[i])\n",
    "sync_final_val = pd.concat(sync_list_final_val)\n",
    "#alone\n",
    "alone_list_final_val = []\n",
    "for i in range(len(alone_list_val)):\n",
    "    alone_list_final_val.append(alone_list_val[i])\n",
    "alone_final_val = pd.concat(alone_list_final_val)"
   ]
  },
  {
   "cell_type": "code",
   "execution_count": 2204,
   "id": "18bd681f",
   "metadata": {},
   "outputs": [],
   "source": [
    "#labeling- spontan=0,sync=1,alone=2\n",
    "#Training\n",
    "spontan_final['label'] = 0\n",
    "sync_final['label'] = 1\n",
    "alone_final['label'] = 2\n",
    "\n",
    "#validation\n",
    "spontan_final_val['label'] = 0\n",
    "sync_final_val['label'] = 1\n",
    "alone_final_val['label'] = 2"
   ]
  },
  {
   "cell_type": "code",
   "execution_count": 2205,
   "id": "e43e59f5",
   "metadata": {},
   "outputs": [],
   "source": [
    "#concat them together\n",
    "full_data = pd.concat([spontan_final,sync_final,alone_final])\n",
    "full_validation = pd.concat([spontan_final_val,sync_final_val,alone_final_val])"
   ]
  },
  {
   "cell_type": "markdown",
   "id": "18dc09a4",
   "metadata": {},
   "source": [
    "###### removing uneeded features"
   ]
  },
  {
   "cell_type": "markdown",
   "id": "ba75f31b",
   "metadata": {},
   "source": [
    "I decided to remove 'Time' and 'Frame ID' for the reason those features don't provide any important information which can help classifiers classifie better. \n",
    "<br>In addition I'm dropping '#hands' feature for the reason it can make classifiers overfit when predicting 'alone' scenario, as all this class are values of 1, and other classes have 2."
   ]
  },
  {
   "cell_type": "code",
   "execution_count": 2206,
   "id": "986e0142",
   "metadata": {},
   "outputs": [],
   "source": [
    "full_data = full_data.drop(['Time',' Frame ID'], axis=1)\n",
    "full_validation = full_validation.drop(['Time',' Frame ID'], axis =1)"
   ]
  },
  {
   "cell_type": "code",
   "execution_count": 2207,
   "id": "3999ed7f",
   "metadata": {},
   "outputs": [
    {
     "data": {
      "text/plain": [
       " Hand Type         0\n",
       " # hands           0\n",
       " Position X        0\n",
       " Position Y        0\n",
       " Position Z        0\n",
       " Velocity X        0\n",
       " Velocity Y        0\n",
       " Velocity Z        0\n",
       " Pitch             0\n",
       " Roll              0\n",
       " Yaw               0\n",
       " Wrist Pos X       0\n",
       " Wrist Pos Y       0\n",
       " Wrist Pos Z       0\n",
       " Elbow pos X       0\n",
       " Elbow Pos Y       0\n",
       " Elbow Pos Z       0\n",
       " Grab Strenth      0\n",
       " Grab Angle        0\n",
       " Pinch Strength    0\n",
       "label              0\n",
       "dtype: int64"
      ]
     },
     "execution_count": 2207,
     "metadata": {},
     "output_type": "execute_result"
    }
   ],
   "source": [
    "full_data.isnull().sum()"
   ]
  },
  {
   "cell_type": "markdown",
   "id": "97afb1bf",
   "metadata": {},
   "source": [
    "## Steps before modeling"
   ]
  },
  {
   "cell_type": "markdown",
   "id": "8ca548b9",
   "metadata": {},
   "source": [
    "###### Splitting the data"
   ]
  },
  {
   "cell_type": "code",
   "execution_count": 2208,
   "id": "2033a47e",
   "metadata": {},
   "outputs": [],
   "source": [
    "#train\n",
    "data = full_data.drop(['label'],axis = 1)\n",
    "target = full_data['label']\n",
    "\n",
    "#validation\n",
    "data_val = full_validation.drop(['label'], axis = 1)\n",
    "target_val = full_validation['label']"
   ]
  },
  {
   "cell_type": "markdown",
   "id": "88227064",
   "metadata": {},
   "source": [
    "###### Scaling"
   ]
  },
  {
   "cell_type": "code",
   "execution_count": 2209,
   "id": "1be9c656",
   "metadata": {},
   "outputs": [],
   "source": [
    "scaler = StandardScaler()\n",
    "data = scaler.fit_transform(data)\n",
    "val_data_scaled = scaler.transform(data_val)"
   ]
  },
  {
   "cell_type": "markdown",
   "id": "67b6f19b",
   "metadata": {},
   "source": [
    "## Modeling\n",
    "I am going to build some modes using different algortihms. I am going to check each algorithm on several number of dimension using PCA as the following- 0.85,0.9,0.95.\n",
    "\n",
    "<br>The steps of each train will be:\n",
    "* PCA.\n",
    "* showing number of features and looking at the varaiance ratio.\n",
    "* fit, predict and scores.\n",
    "\n",
    "\n",
    "<br>**Note:** I also tried n_components of 0.8, but the results were almost the same as with 0.85 (minor diffrence) so I drop it."
   ]
  },
  {
   "cell_type": "markdown",
   "id": "ba738947",
   "metadata": {},
   "source": [
    "### 0.85"
   ]
  },
  {
   "cell_type": "code",
   "execution_count": 2211,
   "id": "fbe71c9f",
   "metadata": {},
   "outputs": [
    {
     "name": "stdout",
     "output_type": "stream",
     "text": [
      "number of features of pca_85 is:  9\n",
      "(32859, 9)\n"
     ]
    }
   ],
   "source": [
    "pca_85 = PCA(n_components=0.85)\n",
    "data_85 = pca_85.fit_transform(data)\n",
    "x_train_85, x_test_85, y_train_85, y_test_85 = train_test_split(data_85, target, test_size=0.2, random_state=0)\n",
    "\n",
    "print(\"number of features of pca_85 is: \",pd.DataFrame(data=data_85).columns.size)\n",
    "print(x_train_85.shape)"
   ]
  },
  {
   "cell_type": "code",
   "execution_count": 2301,
   "id": "8db529b8",
   "metadata": {},
   "outputs": [
    {
     "data": {
      "image/png": "[encoded data removed]",
      "text/plain": [
       "<Figure size 576x288 with 1 Axes>"
      ]
     },
     "metadata": {
      "needs_background": "light"
     },
     "output_type": "display_data"
    }
   ],
   "source": [
    "cumsum = np.cumsum(pca_85.explained_variance_ratio_)\n",
    "plt.figure(figsize=(8,4))\n",
    "plt.plot(cumsum)\n",
    "plt.grid(which = 'both')"
   ]
  },
  {
   "cell_type": "code",
   "execution_count": 2213,
   "id": "4e481c08",
   "metadata": {},
   "outputs": [
    {
     "name": "stdout",
     "output_type": "stream",
     "text": [
      "0.8830188679245283\n",
      "              precision    recall  f1-score   support\n",
      "\n",
      "           0       0.83      0.81      0.82      2716\n",
      "           1       0.81      0.83      0.82      2684\n",
      "           2       1.00      1.00      1.00      2815\n",
      "\n",
      "    accuracy                           0.88      8215\n",
      "   macro avg       0.88      0.88      0.88      8215\n",
      "weighted avg       0.88      0.88      0.88      8215\n",
      "\n"
     ]
    },
    {
     "data": {
      "text/plain": [
       "Text(0.5, 1.0, 'Confusion matrix knn')"
      ]
     },
     "execution_count": 2213,
     "metadata": {},
     "output_type": "execute_result"
    },
    {
     "data": {
      "image/png": "[encoded data removed]",
      "text/plain": [
       "<Figure size 360x288 with 2 Axes>"
      ]
     },
     "metadata": {
      "needs_background": "light"
     },
     "output_type": "display_data"
    }
   ],
   "source": [
    "#knn\n",
    "knn_85 = KNeighborsClassifier()\n",
    "knn_85.fit(x_train_85,y_train_85)\n",
    "knn_85pred= knn_85.predict(x_test_85)\n",
    "\n",
    "#scores\n",
    "f1_knn_85 = f1_score(y_true=y_test_85,y_pred=knn_85pred,average='weighted')\n",
    "print(accuracy_score(y_true=y_test_85,y_pred=knn_85pred))\n",
    "print(classification_report(y_true= y_test_85, y_pred = knn_85pred))\n",
    "\n",
    "#confusion matriax\n",
    "plt.figure(figsize=(5,4))\n",
    "cnf_mat = confusion_matrix(y_true=y_test_85, y_pred=knn_85pred)\n",
    "\n",
    "axis_labels = ['spontanic', 'sync', 'alone']\n",
    "sns.heatmap(pd.DataFrame(cnf_mat), annot=True,cmap=\"Blues\" , fmt='g', xticklabels=axis_labels, yticklabels=axis_labels, linewidths=0.1)\n",
    "\n",
    "plt.tight_layout()\n",
    "plt.title('Confusion matrix knn')"
   ]
  },
  {
   "cell_type": "code",
   "execution_count": 2214,
   "id": "cb13f053",
   "metadata": {},
   "outputs": [
    {
     "name": "stdout",
     "output_type": "stream",
     "text": [
      "0.8870359099208764\n",
      "              precision    recall  f1-score   support\n",
      "\n",
      "           0       0.83      0.83      0.83      2716\n",
      "           1       0.83      0.83      0.83      2684\n",
      "           2       1.00      1.00      1.00      2815\n",
      "\n",
      "    accuracy                           0.89      8215\n",
      "   macro avg       0.89      0.89      0.89      8215\n",
      "weighted avg       0.89      0.89      0.89      8215\n",
      "\n"
     ]
    },
    {
     "data": {
      "text/plain": [
       "Text(0.5, 1.0, 'Confusion matrix random forest')"
      ]
     },
     "execution_count": 2214,
     "metadata": {},
     "output_type": "execute_result"
    },
    {
     "data": {
      "image/png": "[encoded data removed]",
      "text/plain": [
       "<Figure size 360x288 with 2 Axes>"
      ]
     },
     "metadata": {
      "needs_background": "light"
     },
     "output_type": "display_data"
    }
   ],
   "source": [
    "#Random forest\n",
    "rnd_85 = RandomForestClassifier(n_estimators=200, n_jobs=-1)\n",
    "rnd_85.fit(x_train_85,y_train_85)\n",
    "rnd_85pred = rnd_85.predict(x_test_85)\n",
    "\n",
    "#scores\n",
    "f1_rnd_85 = f1_score(y_true=y_test_85,y_pred=rnd_85pred,average='weighted')\n",
    "print(accuracy_score(y_true=y_test_85,y_pred=rnd_85pred))\n",
    "print(classification_report(y_true= y_test_85, y_pred = rnd_85pred))\n",
    "\n",
    "#confusion matriax\n",
    "plt.figure(figsize=(5,4))\n",
    "cnf_mat = confusion_matrix(y_true=y_test_85, y_pred=rnd_85pred)\n",
    "\n",
    "axis_labels = ['spontanic', 'sync', 'alone']\n",
    "sns.heatmap(pd.DataFrame(cnf_mat), annot=True,cmap=\"Blues\" , fmt='g', xticklabels=axis_labels, yticklabels=axis_labels, linewidths=0.1)\n",
    "\n",
    "plt.tight_layout()\n",
    "plt.title('Confusion matrix random forest')\n"
   ]
  },
  {
   "cell_type": "code",
   "execution_count": 2215,
   "id": "884b164e",
   "metadata": {},
   "outputs": [
    {
     "name": "stdout",
     "output_type": "stream",
     "text": [
      "0.8690200852099818\n",
      "              precision    recall  f1-score   support\n",
      "\n",
      "           0       0.80      0.81      0.80      2716\n",
      "           1       0.81      0.79      0.80      2684\n",
      "           2       1.00      1.00      1.00      2815\n",
      "\n",
      "    accuracy                           0.87      8215\n",
      "   macro avg       0.87      0.87      0.87      8215\n",
      "weighted avg       0.87      0.87      0.87      8215\n",
      "\n"
     ]
    },
    {
     "data": {
      "text/plain": [
       "Text(0.5, 1.0, 'Confusion matrix XGBoost')"
      ]
     },
     "execution_count": 2215,
     "metadata": {},
     "output_type": "execute_result"
    },
    {
     "data": {
      "image/png": "[encoded data removed]",
      "text/plain": [
       "<Figure size 360x288 with 2 Axes>"
      ]
     },
     "metadata": {
      "needs_background": "light"
     },
     "output_type": "display_data"
    }
   ],
   "source": [
    "#xgb\n",
    "xgb_85 = XGBClassifier(eval_metric = 'mlogloss')\n",
    "xgb_85.fit(x_train_85,y_train_85)\n",
    "xgb_85pred = xgb_85.predict(x_test_85)\n",
    "\n",
    "#scores\n",
    "f1_xgb_85 = f1_score(y_true=y_test_85,y_pred=xgb_85pred,average='weighted')\n",
    "print(accuracy_score(y_true=y_test_85,y_pred=xgb_85pred))\n",
    "print(classification_report(y_true= y_test_85, y_pred = xgb_85pred))\n",
    "\n",
    "#confusion matriax\n",
    "plt.figure(figsize=(5,4))\n",
    "cnf_mat = confusion_matrix(y_true=y_test_85, y_pred=xgb_85pred)\n",
    "\n",
    "axis_labels = ['spontanic', 'sync', 'alone']\n",
    "sns.heatmap(pd.DataFrame(cnf_mat), annot=True,cmap=\"Blues\" , fmt='g', xticklabels=axis_labels, yticklabels=axis_labels, linewidths=0.1)\n",
    "\n",
    "plt.tight_layout()\n",
    "plt.title('Confusion matrix XGBoost')"
   ]
  },
  {
   "cell_type": "code",
   "execution_count": 2216,
   "id": "1ee34028",
   "metadata": {},
   "outputs": [
    {
     "name": "stdout",
     "output_type": "stream",
     "text": [
      "0.8099817407181984\n",
      "              precision    recall  f1-score   support\n",
      "\n",
      "           0       0.72      0.72      0.72      2716\n",
      "           1       0.72      0.72      0.72      2684\n",
      "           2       0.98      0.98      0.98      2815\n",
      "\n",
      "    accuracy                           0.81      8215\n",
      "   macro avg       0.81      0.81      0.81      8215\n",
      "weighted avg       0.81      0.81      0.81      8215\n",
      "\n"
     ]
    },
    {
     "data": {
      "text/plain": [
       "Text(0.5, 1.0, 'Confusion matrix knn')"
      ]
     },
     "execution_count": 2216,
     "metadata": {},
     "output_type": "execute_result"
    },
    {
     "data": {
      "image/png": "[encoded data removed]",
      "text/plain": [
       "<Figure size 360x288 with 2 Axes>"
      ]
     },
     "metadata": {
      "needs_background": "light"
     },
     "output_type": "display_data"
    }
   ],
   "source": [
    "#AdaBoost\n",
    "ada_85 = AdaBoostClassifier(base_estimator=DecisionTreeClassifier())\n",
    "ada_85.fit(x_train_85,y_train_85)\n",
    "ada_85pred = ada_85.predict(x_test_85)\n",
    "\n",
    "#scores\n",
    "f1_ada_85 = f1_score(y_true=y_test_85,y_pred=ada_85pred,average='weighted')\n",
    "print(accuracy_score(y_true=y_test_85,y_pred=ada_85pred))\n",
    "print(classification_report(y_true= y_test_85, y_pred = ada_85pred))\n",
    "\n",
    "#confusion matriax\n",
    "plt.figure(figsize=(5,4))\n",
    "cnf_mat = confusion_matrix(y_true=y_test_85, y_pred=ada_85pred)\n",
    "\n",
    "axis_labels = ['spontanic', 'sync', 'alone']\n",
    "sns.heatmap(pd.DataFrame(cnf_mat), annot=True,cmap=\"Blues\" , fmt='g', xticklabels=axis_labels, yticklabels=axis_labels, linewidths=0.1)\n",
    "\n",
    "plt.tight_layout()\n",
    "plt.title('Confusion matrix knn')"
   ]
  },
  {
   "cell_type": "code",
   "execution_count": 2217,
   "id": "d052113b",
   "metadata": {},
   "outputs": [
    {
     "name": "stdout",
     "output_type": "stream",
     "text": [
      "0.8936092513694461\n",
      "              precision    recall  f1-score   support\n",
      "\n",
      "           0       0.84      0.84      0.84      2716\n",
      "           1       0.84      0.83      0.84      2684\n",
      "           2       1.00      1.00      1.00      2815\n",
      "\n",
      "    accuracy                           0.89      8215\n",
      "   macro avg       0.89      0.89      0.89      8215\n",
      "weighted avg       0.89      0.89      0.89      8215\n",
      "\n"
     ]
    },
    {
     "data": {
      "text/plain": [
       "Text(0.5, 1.0, 'Confusion matrix stacking')"
      ]
     },
     "execution_count": 2217,
     "metadata": {},
     "output_type": "execute_result"
    },
    {
     "data": {
      "image/png": "[encoded data removed]",
      "text/plain": [
       "<Figure size 360x288 with 2 Axes>"
      ]
     },
     "metadata": {
      "needs_background": "light"
     },
     "output_type": "display_data"
    }
   ],
   "source": [
    "#stacking\n",
    "stack_85 = StackingClassifier(estimators=[('knn',knn_85),('rnd',rnd_85),('xgb',xgb_85),('ada',ada_85)], final_estimator=xgb_85)\n",
    "stack_85.fit(x_train_85,y_train_85)\n",
    "stack_85pred = stack_85.predict(x_test_85)\n",
    "\n",
    "#scores\n",
    "f1_stack_85 = f1_score(y_true=y_test_85,y_pred=stack_85pred, average='weighted')\n",
    "print(accuracy_score(y_true=y_test_85,y_pred=stack_85pred))\n",
    "print(classification_report(y_true= y_test_85, y_pred = stack_85pred))\n",
    "\n",
    "#confusion matriax\n",
    "plt.figure(figsize=(5,4))\n",
    "cnf_mat = confusion_matrix(y_true=y_test_85, y_pred=stack_85pred)\n",
    "\n",
    "axis_labels = ['spontanic', 'sync', 'alone']\n",
    "sns.heatmap(pd.DataFrame(cnf_mat), annot=True,cmap=\"Blues\" , fmt='g', xticklabels=axis_labels, yticklabels=axis_labels, linewidths=0.1)\n",
    "\n",
    "plt.tight_layout()\n",
    "plt.title('Confusion matrix stacking')"
   ]
  },
  {
   "cell_type": "code",
   "execution_count": 2218,
   "id": "91134458",
   "metadata": {},
   "outputs": [
    {
     "name": "stdout",
     "output_type": "stream",
     "text": [
      "knn f1 score:  0.882997671240778\n",
      "rnd f1 score:  0.8869016903006915\n",
      "xgb f1 score:  0.8689325258774184\n",
      "ada f1 score:  0.8099783678470939\n",
      "stack f1 score:  0.8935535203630118\n"
     ]
    }
   ],
   "source": [
    "print(\"knn f1 score: \", f1_knn_85)\n",
    "print(\"rnd f1 score: \", f1_rnd_85)\n",
    "print(\"xgb f1 score: \", f1_xgb_85)\n",
    "print(\"ada f1 score: \", f1_ada_85)\n",
    "print(\"stack f1 score: \", f1_stack_85)"
   ]
  },
  {
   "cell_type": "markdown",
   "id": "a1ae8439",
   "metadata": {},
   "source": [
    "Stacking classifier f1 score is the highest score of 0.85 with 89.3%."
   ]
  },
  {
   "cell_type": "markdown",
   "id": "49d7e7a0",
   "metadata": {},
   "source": [
    "### 0.9"
   ]
  },
  {
   "cell_type": "code",
   "execution_count": 2219,
   "id": "4c1c0c47",
   "metadata": {},
   "outputs": [
    {
     "name": "stdout",
     "output_type": "stream",
     "text": [
      "number of features of pca_90 is:  10\n",
      "(32859, 10)\n"
     ]
    }
   ],
   "source": [
    "pca_90 = PCA(n_components=0.9)\n",
    "data_90 = pca_90.fit_transform(data)\n",
    "x_train_90, x_test_90, y_train_90, y_test_90 = train_test_split(data_90, target, test_size=0.2, random_state=0)\n",
    "\n",
    "print(\"number of features of pca_90 is: \",pd.DataFrame(data=data_90).columns.size)\n",
    "print(x_train_90.shape)"
   ]
  },
  {
   "cell_type": "code",
   "execution_count": 2300,
   "id": "a97701e0",
   "metadata": {},
   "outputs": [
    {
     "data": {
      "image/png": "[encoded data removed]",
      "text/plain": [
       "<Figure size 576x288 with 1 Axes>"
      ]
     },
     "metadata": {
      "needs_background": "light"
     },
     "output_type": "display_data"
    }
   ],
   "source": [
    "cumsum = np.cumsum(pca_90.explained_variance_ratio_)\n",
    "plt.figure(figsize=(8,4))\n",
    "plt.plot(cumsum)\n",
    "plt.grid(which = 'both')"
   ]
  },
  {
   "cell_type": "code",
   "execution_count": 2221,
   "id": "f5ce99cd",
   "metadata": {},
   "outputs": [
    {
     "name": "stdout",
     "output_type": "stream",
     "text": [
      "0.911503347534997\n",
      "              precision    recall  f1-score   support\n",
      "\n",
      "           0       0.87      0.86      0.87      2716\n",
      "           1       0.86      0.87      0.87      2684\n",
      "           2       1.00      1.00      1.00      2815\n",
      "\n",
      "    accuracy                           0.91      8215\n",
      "   macro avg       0.91      0.91      0.91      8215\n",
      "weighted avg       0.91      0.91      0.91      8215\n",
      "\n"
     ]
    },
    {
     "data": {
      "text/plain": [
       "Text(0.5, 1.0, 'Confusion matrix knn')"
      ]
     },
     "execution_count": 2221,
     "metadata": {},
     "output_type": "execute_result"
    },
    {
     "data": {
      "image/png": "[encoded data removed]",
      "text/plain": [
       "<Figure size 360x288 with 2 Axes>"
      ]
     },
     "metadata": {
      "needs_background": "light"
     },
     "output_type": "display_data"
    }
   ],
   "source": [
    "#knn\n",
    "knn_90 = KNeighborsClassifier()\n",
    "knn_90.fit(x_train_90,y_train_90)\n",
    "knn_90pred= knn_90.predict(x_test_90)\n",
    "\n",
    "#scores\n",
    "f1_knn_90 = f1_score(y_true=y_test_90,y_pred=knn_90pred, average='weighted')\n",
    "print(accuracy_score(y_true=y_test_90,y_pred=knn_90pred))\n",
    "print(classification_report(y_true= y_test_90, y_pred = knn_90pred))\n",
    "\n",
    "#confusion matriax\n",
    "plt.figure(figsize=(5,4))\n",
    "cnf_mat = confusion_matrix(y_true=y_test_90, y_pred=knn_90pred)\n",
    "\n",
    "axis_labels = ['spontanic', 'sync', 'alone']\n",
    "sns.heatmap(pd.DataFrame(cnf_mat), annot=True,cmap=\"Blues\" , fmt='g', xticklabels=axis_labels, yticklabels=axis_labels, linewidths=0.1)\n",
    "\n",
    "plt.tight_layout()\n",
    "plt.title('Confusion matrix knn')"
   ]
  },
  {
   "cell_type": "code",
   "execution_count": 2222,
   "id": "4a08d747",
   "metadata": {},
   "outputs": [
    {
     "name": "stdout",
     "output_type": "stream",
     "text": [
      "0.9195374315276933\n",
      "              precision    recall  f1-score   support\n",
      "\n",
      "           0       0.87      0.89      0.88      2716\n",
      "           1       0.89      0.87      0.88      2684\n",
      "           2       1.00      1.00      1.00      2815\n",
      "\n",
      "    accuracy                           0.92      8215\n",
      "   macro avg       0.92      0.92      0.92      8215\n",
      "weighted avg       0.92      0.92      0.92      8215\n",
      "\n"
     ]
    },
    {
     "data": {
      "text/plain": [
       "Text(0.5, 1.0, 'Confusion matrix random forest')"
      ]
     },
     "execution_count": 2222,
     "metadata": {},
     "output_type": "execute_result"
    },
    {
     "data": {
      "image/png": "[encoded data removed]",
      "text/plain": [
       "<Figure size 360x288 with 2 Axes>"
      ]
     },
     "metadata": {
      "needs_background": "light"
     },
     "output_type": "display_data"
    }
   ],
   "source": [
    "#Random forest\n",
    "rnd_90 = RandomForestClassifier(n_estimators=200, n_jobs=-1)\n",
    "rnd_90.fit(x_train_90,y_train_90)\n",
    "rnd_90pred = rnd_90.predict(x_test_90)\n",
    "\n",
    "#scores\n",
    "f1_rnd_90 = f1_score(y_true=y_test_90,y_pred=rnd_90pred, average='weighted')\n",
    "print(accuracy_score(y_true=y_test_90,y_pred=rnd_90pred))\n",
    "print(classification_report(y_true= y_test_90, y_pred = rnd_90pred))\n",
    "\n",
    "#confusion matriax\n",
    "plt.figure(figsize=(5,4))\n",
    "cnf_mat = confusion_matrix(y_true=y_test_90, y_pred=rnd_90pred)\n",
    "\n",
    "axis_labels = ['spontanic', 'sync', 'alone']\n",
    "sns.heatmap(pd.DataFrame(cnf_mat), annot=True,cmap=\"Blues\" , fmt='g', xticklabels=axis_labels, yticklabels=axis_labels, linewidths=0.1)\n",
    "\n",
    "plt.tight_layout()\n",
    "plt.title('Confusion matrix random forest')"
   ]
  },
  {
   "cell_type": "code",
   "execution_count": 2223,
   "id": "d9b07842",
   "metadata": {},
   "outputs": [
    {
     "name": "stdout",
     "output_type": "stream",
     "text": [
      "0.900060864272672\n",
      "              precision    recall  f1-score   support\n",
      "\n",
      "           0       0.84      0.86      0.85      2716\n",
      "           1       0.86      0.83      0.85      2684\n",
      "           2       1.00      1.00      1.00      2815\n",
      "\n",
      "    accuracy                           0.90      8215\n",
      "   macro avg       0.90      0.90      0.90      8215\n",
      "weighted avg       0.90      0.90      0.90      8215\n",
      "\n"
     ]
    },
    {
     "data": {
      "text/plain": [
       "Text(0.5, 1.0, 'Confusion matrix XGBoost')"
      ]
     },
     "execution_count": 2223,
     "metadata": {},
     "output_type": "execute_result"
    },
    {
     "data": {
      "image/png": "[encoded data removed]",
      "text/plain": [
       "<Figure size 360x288 with 2 Axes>"
      ]
     },
     "metadata": {
      "needs_background": "light"
     },
     "output_type": "display_data"
    }
   ],
   "source": [
    "xgb_90 = XGBClassifier(eval_metric = 'mlogloss')\n",
    "xgb_90.fit(x_train_90,y_train_90)\n",
    "xgb_90pred = xgb_90.predict(x_test_90)\n",
    "\n",
    "#scores\n",
    "f1_xgb_90 = f1_score(y_true=y_test_90,y_pred=xgb_90pred, average='weighted')\n",
    "print(accuracy_score(y_true=y_test_90,y_pred=xgb_90pred))\n",
    "print(classification_report(y_true= y_test_90, y_pred = xgb_90pred))\n",
    "\n",
    "#confusion matriax\n",
    "plt.figure(figsize=(5,4))\n",
    "cnf_mat = confusion_matrix(y_true=y_test_90, y_pred=xgb_90pred)\n",
    "\n",
    "axis_labels = ['spontanic', 'sync', 'alone']\n",
    "sns.heatmap(pd.DataFrame(cnf_mat), annot=True,cmap=\"Blues\" , fmt='g', xticklabels=axis_labels, yticklabels=axis_labels, linewidths=0.1)\n",
    "\n",
    "plt.tight_layout()\n",
    "plt.title('Confusion matrix XGBoost')"
   ]
  },
  {
   "cell_type": "code",
   "execution_count": 2224,
   "id": "1f705c45",
   "metadata": {},
   "outputs": [
    {
     "name": "stdout",
     "output_type": "stream",
     "text": [
      "0.8503956177723676\n",
      "              precision    recall  f1-score   support\n",
      "\n",
      "           0       0.78      0.78      0.78      2716\n",
      "           1       0.78      0.78      0.78      2684\n",
      "           2       0.98      0.98      0.98      2815\n",
      "\n",
      "    accuracy                           0.85      8215\n",
      "   macro avg       0.85      0.85      0.85      8215\n",
      "weighted avg       0.85      0.85      0.85      8215\n",
      "\n"
     ]
    },
    {
     "data": {
      "text/plain": [
       "Text(0.5, 1.0, 'Confusion matrix knn')"
      ]
     },
     "execution_count": 2224,
     "metadata": {},
     "output_type": "execute_result"
    },
    {
     "data": {
      "image/png": "[encoded data removed]",
      "text/plain": [
       "<Figure size 360x288 with 2 Axes>"
      ]
     },
     "metadata": {
      "needs_background": "light"
     },
     "output_type": "display_data"
    }
   ],
   "source": [
    "#AdaBoost\n",
    "ada_90 = AdaBoostClassifier(base_estimator=DecisionTreeClassifier())\n",
    "ada_90.fit(x_train_90,y_train_90)\n",
    "ada_90pred = ada_90.predict(x_test_90)\n",
    "\n",
    "#scores\n",
    "f1_ada_90 = f1_score(y_true=y_test_90,y_pred=ada_90pred, average='weighted')\n",
    "print(accuracy_score(y_true=y_test_90,y_pred=ada_90pred))\n",
    "print(classification_report(y_true= y_test_90, y_pred = ada_90pred))\n",
    "\n",
    "#confusion matriax\n",
    "plt.figure(figsize=(5,4))\n",
    "cnf_mat = confusion_matrix(y_true=y_test_90, y_pred=ada_90pred)\n",
    "\n",
    "axis_labels = ['spontanic', 'sync', 'alone']\n",
    "sns.heatmap(pd.DataFrame(cnf_mat), annot=True,cmap=\"Blues\" , fmt='g', xticklabels=axis_labels, yticklabels=axis_labels, linewidths=0.1)\n",
    "\n",
    "plt.tight_layout()\n",
    "plt.title('Confusion matrix knn')"
   ]
  },
  {
   "cell_type": "code",
   "execution_count": 2225,
   "id": "76231f0e",
   "metadata": {},
   "outputs": [
    {
     "name": "stdout",
     "output_type": "stream",
     "text": [
      "0.9242848447961047\n",
      "              precision    recall  f1-score   support\n",
      "\n",
      "           0       0.88      0.89      0.89      2716\n",
      "           1       0.89      0.88      0.88      2684\n",
      "           2       1.00      1.00      1.00      2815\n",
      "\n",
      "    accuracy                           0.92      8215\n",
      "   macro avg       0.92      0.92      0.92      8215\n",
      "weighted avg       0.92      0.92      0.92      8215\n",
      "\n"
     ]
    },
    {
     "data": {
      "text/plain": [
       "Text(0.5, 1.0, 'Confusion matrix stacking')"
      ]
     },
     "execution_count": 2225,
     "metadata": {},
     "output_type": "execute_result"
    },
    {
     "data": {
      "image/png": "[encoded data removed]",
      "text/plain": [
       "<Figure size 360x288 with 2 Axes>"
      ]
     },
     "metadata": {
      "needs_background": "light"
     },
     "output_type": "display_data"
    }
   ],
   "source": [
    "#stacking\n",
    "stack_90 = StackingClassifier(estimators=[('knn',knn_90),('rnd',rnd_90),('xgb',xgb_90),('ada',ada_90)], final_estimator=xgb_90)\n",
    "stack_90.fit(x_train_90,y_train_90)\n",
    "stack_90pred = stack_90.predict(x_test_90)\n",
    "\n",
    "#scores\n",
    "f1_stack_90 = f1_score(y_true=y_test_90,y_pred=stack_90pred, average='weighted')\n",
    "print(accuracy_score(y_true=y_test_90,y_pred=stack_90pred))\n",
    "print(classification_report(y_true= y_test_90, y_pred = stack_90pred))\n",
    "\n",
    "#confusion matriax\n",
    "plt.figure(figsize=(5,4))\n",
    "cnf_mat = confusion_matrix(y_true=y_test_90, y_pred=stack_90pred)\n",
    "\n",
    "axis_labels = ['spontanic', 'sync', 'alone']\n",
    "sns.heatmap(pd.DataFrame(cnf_mat), annot=True,cmap=\"Blues\" , fmt='g', xticklabels=axis_labels, yticklabels=axis_labels, linewidths=0.1)\n",
    "\n",
    "plt.tight_layout()\n",
    "plt.title('Confusion matrix stacking')"
   ]
  },
  {
   "cell_type": "code",
   "execution_count": 2226,
   "id": "29673f2a",
   "metadata": {},
   "outputs": [
    {
     "name": "stdout",
     "output_type": "stream",
     "text": [
      "knn f1 score:  0.9114796496310686\n",
      "rnd f1 score:  0.9194535808921224\n",
      "xgb f1 score:  0.8999783205471342\n",
      "ada f1 score:  0.8502841208885524\n",
      "stack f1 score:  0.9242429283021762\n"
     ]
    }
   ],
   "source": [
    "print(\"knn f1 score: \", f1_knn_90)\n",
    "print(\"rnd f1 score: \", f1_rnd_90)\n",
    "print(\"xgb f1 score: \", f1_xgb_90)\n",
    "print(\"ada f1 score: \", f1_ada_90)\n",
    "print(\"stack f1 score: \", f1_stack_90)"
   ]
  },
  {
   "cell_type": "markdown",
   "id": "47e59b03",
   "metadata": {},
   "source": [
    "Again, stacking classifier f1 score is the highest score of 0.9 with 92.4%."
   ]
  },
  {
   "cell_type": "markdown",
   "id": "8d94773e",
   "metadata": {},
   "source": [
    "### 0.95"
   ]
  },
  {
   "cell_type": "code",
   "execution_count": 2227,
   "id": "a8452c39",
   "metadata": {},
   "outputs": [
    {
     "name": "stdout",
     "output_type": "stream",
     "text": [
      "number of features of pca_95 is:  12\n",
      "(32859, 12)\n"
     ]
    }
   ],
   "source": [
    "pca_95 = PCA(n_components=0.95)\n",
    "data_95 = pca_95.fit_transform(data)\n",
    "x_train_95, x_test_95, y_train_95, y_test_95 = train_test_split(data_95, target, test_size=0.2, random_state=1)\n",
    "\n",
    "print(\"number of features of pca_95 is: \",pd.DataFrame(data=data_95).columns.size)\n",
    "print(x_train_95.shape)"
   ]
  },
  {
   "cell_type": "code",
   "execution_count": 2302,
   "id": "4979e642",
   "metadata": {},
   "outputs": [
    {
     "data": {
      "image/png": "[encoded data removed]",
      "text/plain": [
       "<Figure size 576x288 with 1 Axes>"
      ]
     },
     "metadata": {
      "needs_background": "light"
     },
     "output_type": "display_data"
    }
   ],
   "source": [
    "cumsum = np.cumsum(pca_95.explained_variance_ratio_)\n",
    "plt.figure(figsize=(8,4))\n",
    "plt.plot(cumsum)\n",
    "plt.grid(which = 'both')"
   ]
  },
  {
   "cell_type": "code",
   "execution_count": 2229,
   "id": "a05ce9c9",
   "metadata": {},
   "outputs": [
    {
     "name": "stdout",
     "output_type": "stream",
     "text": [
      "0.9129640900791236\n",
      "              precision    recall  f1-score   support\n",
      "\n",
      "           0       0.88      0.86      0.87      2779\n",
      "           1       0.86      0.88      0.87      2723\n",
      "           2       1.00      1.00      1.00      2713\n",
      "\n",
      "    accuracy                           0.91      8215\n",
      "   macro avg       0.91      0.91      0.91      8215\n",
      "weighted avg       0.91      0.91      0.91      8215\n",
      "\n"
     ]
    },
    {
     "data": {
      "text/plain": [
       "Text(0.5, 1.0, 'Confusion matrix knn')"
      ]
     },
     "execution_count": 2229,
     "metadata": {},
     "output_type": "execute_result"
    },
    {
     "data": {
      "image/png": "[encoded data removed]",
      "text/plain": [
       "<Figure size 360x288 with 2 Axes>"
      ]
     },
     "metadata": {
      "needs_background": "light"
     },
     "output_type": "display_data"
    }
   ],
   "source": [
    "#knn\n",
    "knn_95 = KNeighborsClassifier()\n",
    "knn_95.fit(x_train_95,y_train_95)\n",
    "knn_95pred= knn_95.predict(x_test_95)\n",
    "\n",
    "#scores\n",
    "f1_knn_95 = f1_score(y_true=y_test_95,y_pred=knn_95pred, average='weighted')\n",
    "print(accuracy_score(y_true=y_test_95,y_pred=knn_95pred))\n",
    "print(classification_report(y_true= y_test_95, y_pred = knn_95pred))\n",
    "\n",
    "#confusion matriax\n",
    "plt.figure(figsize=(5,4))\n",
    "cnf_mat = confusion_matrix(y_true=y_test_95, y_pred=knn_95pred)\n",
    "\n",
    "axis_labels = ['spontanic', 'sync', 'alone']\n",
    "sns.heatmap(pd.DataFrame(cnf_mat), annot=True,cmap=\"Blues\" , fmt='g', xticklabels=axis_labels, yticklabels=axis_labels, linewidths=0.1)\n",
    "\n",
    "plt.tight_layout()\n",
    "plt.title('Confusion matrix knn')"
   ]
  },
  {
   "cell_type": "code",
   "execution_count": 2230,
   "id": "e1a957c9",
   "metadata": {},
   "outputs": [
    {
     "name": "stdout",
     "output_type": "stream",
     "text": [
      "0.9276932440657334\n",
      "              precision    recall  f1-score   support\n",
      "\n",
      "           0       0.89      0.90      0.89      2779\n",
      "           1       0.90      0.89      0.89      2723\n",
      "           2       1.00      1.00      1.00      2713\n",
      "\n",
      "    accuracy                           0.93      8215\n",
      "   macro avg       0.93      0.93      0.93      8215\n",
      "weighted avg       0.93      0.93      0.93      8215\n",
      "\n"
     ]
    },
    {
     "data": {
      "text/plain": [
       "Text(0.5, 1.0, 'Confusion matrix random forest')"
      ]
     },
     "execution_count": 2230,
     "metadata": {},
     "output_type": "execute_result"
    },
    {
     "data": {
      "image/png": "[encoded data removed]",
      "text/plain": [
       "<Figure size 360x288 with 2 Axes>"
      ]
     },
     "metadata": {
      "needs_background": "light"
     },
     "output_type": "display_data"
    }
   ],
   "source": [
    "#Random forest\n",
    "rnd_95 = RandomForestClassifier(n_estimators=200, n_jobs=-1)\n",
    "rnd_95.fit(x_train_95,y_train_95)\n",
    "rnd_95pred = rnd_95.predict(x_test_95)\n",
    "\n",
    "#scores\n",
    "f1_rnd_95 = f1_score(y_true=y_test_95,y_pred=rnd_95pred, average='weighted')\n",
    "print(accuracy_score(y_true=y_test_95,y_pred=rnd_95pred))\n",
    "print(classification_report(y_true= y_test_95, y_pred = rnd_95pred))\n",
    "\n",
    "#confusion matriax\n",
    "plt.figure(figsize=(5,4))\n",
    "cnf_mat = confusion_matrix(y_true=y_test_95, y_pred=rnd_95pred)\n",
    "\n",
    "axis_labels = ['spontanic', 'sync', 'alone']\n",
    "sns.heatmap(pd.DataFrame(cnf_mat), annot=True,cmap=\"Blues\" , fmt='g', xticklabels=axis_labels, yticklabels=axis_labels, linewidths=0.1)\n",
    "\n",
    "plt.tight_layout()\n",
    "plt.title('Confusion matrix random forest')"
   ]
  },
  {
   "cell_type": "code",
   "execution_count": 2231,
   "id": "42100962",
   "metadata": {},
   "outputs": [
    {
     "name": "stdout",
     "output_type": "stream",
     "text": [
      "0.9146682897139379\n",
      "              precision    recall  f1-score   support\n",
      "\n",
      "           0       0.87      0.89      0.88      2779\n",
      "           1       0.88      0.86      0.87      2723\n",
      "           2       1.00      1.00      1.00      2713\n",
      "\n",
      "    accuracy                           0.91      8215\n",
      "   macro avg       0.92      0.91      0.92      8215\n",
      "weighted avg       0.91      0.91      0.91      8215\n",
      "\n"
     ]
    },
    {
     "data": {
      "text/plain": [
       "Text(0.5, 1.0, 'Confusion matrix XGBoost')"
      ]
     },
     "execution_count": 2231,
     "metadata": {},
     "output_type": "execute_result"
    },
    {
     "data": {
      "image/png": "[encoded data removed]",
      "text/plain": [
       "<Figure size 360x288 with 2 Axes>"
      ]
     },
     "metadata": {
      "needs_background": "light"
     },
     "output_type": "display_data"
    }
   ],
   "source": [
    "xgb_95 = XGBClassifier(eval_metric = 'mlogloss')\n",
    "xgb_95.fit(x_train_95,y_train_95)\n",
    "xgb_95pred = xgb_95.predict(x_test_95)\n",
    "\n",
    "#scores\n",
    "f1_xgb_95 = f1_score(y_true=y_test_95,y_pred=xgb_95pred, average='weighted')\n",
    "print(accuracy_score(y_true=y_test_95,y_pred=xgb_95pred))\n",
    "print(classification_report(y_true= y_test_95, y_pred = xgb_95pred))\n",
    "\n",
    "#confusion matriax\n",
    "plt.figure(figsize=(5,4))\n",
    "cnf_mat = confusion_matrix(y_true=y_test_95, y_pred=xgb_95pred)\n",
    "\n",
    "axis_labels = ['spontanic', 'sync', 'alone']\n",
    "sns.heatmap(pd.DataFrame(cnf_mat), annot=True,cmap=\"Blues\" , fmt='g', xticklabels=axis_labels, yticklabels=axis_labels, linewidths=0.1)\n",
    "\n",
    "plt.tight_layout()\n",
    "plt.title('Confusion matrix XGBoost')"
   ]
  },
  {
   "cell_type": "code",
   "execution_count": 2232,
   "id": "35a92ee6",
   "metadata": {},
   "outputs": [
    {
     "name": "stdout",
     "output_type": "stream",
     "text": [
      "0.8534388314059647\n",
      "              precision    recall  f1-score   support\n",
      "\n",
      "           0       0.79      0.78      0.79      2779\n",
      "           1       0.79      0.80      0.79      2723\n",
      "           2       0.98      0.98      0.98      2713\n",
      "\n",
      "    accuracy                           0.85      8215\n",
      "   macro avg       0.85      0.85      0.85      8215\n",
      "weighted avg       0.85      0.85      0.85      8215\n",
      "\n"
     ]
    },
    {
     "data": {
      "text/plain": [
       "Text(0.5, 1.0, 'Confusion matrix knn')"
      ]
     },
     "execution_count": 2232,
     "metadata": {},
     "output_type": "execute_result"
    },
    {
     "data": {
      "image/png": "[encoded data removed]",
      "text/plain": [
       "<Figure size 360x288 with 2 Axes>"
      ]
     },
     "metadata": {
      "needs_background": "light"
     },
     "output_type": "display_data"
    }
   ],
   "source": [
    "#AdaBoost\n",
    "ada_95 = AdaBoostClassifier(base_estimator=DecisionTreeClassifier())\n",
    "ada_95.fit(x_train_95,y_train_95)\n",
    "ada_95pred = ada_95.predict(x_test_95)\n",
    "\n",
    "#scores\n",
    "f1_ada_95 = f1_score(y_true=y_test_95,y_pred=ada_95pred, average='weighted')\n",
    "print(accuracy_score(y_true=y_test_95,y_pred=ada_95pred))\n",
    "print(classification_report(y_true= y_test_95, y_pred = ada_95pred))\n",
    "\n",
    "#confusion matriax\n",
    "plt.figure(figsize=(5,4))\n",
    "cnf_mat = confusion_matrix(y_true=y_test_95, y_pred=ada_95pred)\n",
    "\n",
    "axis_labels = ['spontanic', 'sync', 'alone']\n",
    "sns.heatmap(pd.DataFrame(cnf_mat), annot=True,cmap=\"Blues\" , fmt='g', xticklabels=axis_labels, yticklabels=axis_labels, linewidths=0.1)\n",
    "\n",
    "plt.tight_layout()\n",
    "plt.title('Confusion matrix knn')"
   ]
  },
  {
   "cell_type": "code",
   "execution_count": 2233,
   "id": "b22e9cf3",
   "metadata": {
    "scrolled": false
   },
   "outputs": [
    {
     "name": "stdout",
     "output_type": "stream",
     "text": [
      "0.9321972002434571\n",
      "              precision    recall  f1-score   support\n",
      "\n",
      "           0       0.90      0.90      0.90      2779\n",
      "           1       0.90      0.89      0.90      2723\n",
      "           2       1.00      1.00      1.00      2713\n",
      "\n",
      "    accuracy                           0.93      8215\n",
      "   macro avg       0.93      0.93      0.93      8215\n",
      "weighted avg       0.93      0.93      0.93      8215\n",
      "\n"
     ]
    },
    {
     "data": {
      "text/plain": [
       "Text(0.5, 1.0, 'Confusion matrix stacking')"
      ]
     },
     "execution_count": 2233,
     "metadata": {},
     "output_type": "execute_result"
    },
    {
     "data": {
      "image/png": "[encoded data removed]",
      "text/plain": [
       "<Figure size 360x288 with 2 Axes>"
      ]
     },
     "metadata": {
      "needs_background": "light"
     },
     "output_type": "display_data"
    }
   ],
   "source": [
    "#stacking\n",
    "stack_95 = StackingClassifier(estimators=[('knn',knn_95),('rnd',rnd_95),('xgb',xgb_95),('ada',ada_95)], final_estimator=xgb_95)\n",
    "stack_95.fit(x_train_95,y_train_95)\n",
    "stack_95pred = stack_95.predict(x_test_95)\n",
    "\n",
    "#scores\n",
    "f1_stack_95 = f1_score(y_true=y_test_95,y_pred=stack_95pred, average='weighted')\n",
    "print(accuracy_score(y_true=y_test_95,y_pred=stack_95pred))\n",
    "print(classification_report(y_true= y_test_95, y_pred = stack_95pred))\n",
    "\n",
    "#confusion matriax\n",
    "plt.figure(figsize=(5,4))\n",
    "cnf_mat = confusion_matrix(y_true=y_test_95, y_pred=stack_95pred)\n",
    "\n",
    "axis_labels = ['spontanic', 'sync', 'alone']\n",
    "sns.heatmap(pd.DataFrame(cnf_mat), annot=True,cmap=\"Blues\" , fmt='g', xticklabels=axis_labels, yticklabels=axis_labels, linewidths=0.1)\n",
    "\n",
    "plt.tight_layout()\n",
    "plt.title('Confusion matrix stacking')"
   ]
  },
  {
   "cell_type": "code",
   "execution_count": 2234,
   "id": "acd1c067",
   "metadata": {},
   "outputs": [
    {
     "name": "stdout",
     "output_type": "stream",
     "text": [
      "knn f1 score:  0.912952744842224\n",
      "rnd f1 score:  0.9276443359654428\n",
      "xgb f1 score:  0.9146404271755421\n",
      "ada f1 score:  0.8533526930897298\n",
      "stack f1 score:  0.9321942216663684\n"
     ]
    }
   ],
   "source": [
    "print(\"knn f1 score: \", f1_knn_95)\n",
    "print(\"rnd f1 score: \", f1_rnd_95)\n",
    "print(\"xgb f1 score: \", f1_xgb_95)\n",
    "print(\"ada f1 score: \", f1_ada_95)\n",
    "print(\"stack f1 score: \", f1_stack_95)"
   ]
  },
  {
   "cell_type": "markdown",
   "id": "0a028af0",
   "metadata": {},
   "source": [
    "Stacking classifier f1 score is the highest score of 0.95."
   ]
  },
  {
   "cell_type": "markdown",
   "id": "be04bce9",
   "metadata": {},
   "source": [
    "###### Which is the best classifier?"
   ]
  },
  {
   "cell_type": "code",
   "execution_count": 2237,
   "id": "9922641f",
   "metadata": {},
   "outputs": [
    {
     "name": "stdout",
     "output_type": "stream",
     "text": [
      "Stacking classifier of 0.85 PCA is:  0.8935535203630118\n",
      "Stacking classifier of 0.9 PCA is:  0.9242429283021762\n",
      "Stacking classifier of 0.95 PCA is:  0.9321942216663684\n"
     ]
    }
   ],
   "source": [
    "print(\"Stacking classifier of 0.85 PCA is: \", f1_stack_85)\n",
    "print(\"Stacking classifier of 0.9 PCA is: \", f1_stack_90)\n",
    "print(\"Stacking classifier of 0.95 PCA is: \", f1_stack_95)"
   ]
  },
  {
   "cell_type": "markdown",
   "id": "7eded64c",
   "metadata": {},
   "source": [
    "**As can be seen, the best classifier is Stacking with 0.95 components that are 12 features (out of 20) with f1 score of 93%.**\n",
    "\n",
    "<br>Now it's time to evaluate the model with our test set, let's see what we get:"
   ]
  },
  {
   "cell_type": "code",
   "execution_count": 2236,
   "id": "de6fa649",
   "metadata": {},
   "outputs": [
    {
     "name": "stdout",
     "output_type": "stream",
     "text": [
      "0.8570039763272146\n"
     ]
    }
   ],
   "source": [
    "#PCA in order to adopt val data to train data's dimension \n",
    "data_val_95 = pca_95.transform(val_data_scaled)\n",
    "\n",
    "#last presdiction\n",
    "pred_ = knn_95.predict(data_val_95)\n",
    "print(f1_score(y_pred=pred_, y_true=target_val,average='weighted'))"
   ]
  },
  {
   "cell_type": "markdown",
   "id": "80d50dfa",
   "metadata": {},
   "source": [
    "**Our best model perform not bad on the validation set- 85%!** "
   ]
  },
  {
   "cell_type": "code",
   "execution_count": null,
   "id": "3464c0cc",
   "metadata": {},
   "outputs": [],
   "source": []
  }
 ],
 "metadata": {
  "kernelspec": {
   "display_name": "Python 3",
   "language": "python",
   "name": "python3"
  },
  "language_info": {
   "codemirror_mode": {
    "name": "ipython",
    "version": 3
   },
   "file_extension": ".py",
   "mimetype": "text/x-python",
   "name": "python",
   "nbconvert_exporter": "python",
   "pygments_lexer": "ipython3",
   "version": "3.8.8"
  }
 },
 "nbformat": 4,
 "nbformat_minor": 5
}
