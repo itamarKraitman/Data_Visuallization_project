{
 "cells": [
  {
   "cell_type": "code",
   "execution_count": 71,
   "id": "4e22bd87",
   "metadata": {},
   "outputs": [],
   "source": [
    "import pandas as pd\n",
    "import numpy as np\n",
    "import matplotlib.pyplot as plt\n",
    "from os import listdir\n",
    "\n",
    "import warnings\n",
    "warnings.filterwarnings('ignore')"
   ]
  },
  {
   "cell_type": "markdown",
   "id": "e2ea4fb5",
   "metadata": {},
   "source": [
    "## Uploading the data"
   ]
  },
  {
   "cell_type": "code",
   "execution_count": 19,
   "id": "361fcbf3",
   "metadata": {},
   "outputs": [],
   "source": [
    "def upload_data(data):\n",
    "    spontan_list= [] \n",
    "    sync_list= []\n",
    "    alone_list = []\n",
    "    for participant in listdir(complete_data):\n",
    "        for file in listdir(complete_data+participant+'/'):\n",
    "            if file.endswith('Spontan.csv'):\n",
    "                spontan=pd.read_csv(complete_data+participant+'/'+file)\n",
    "            elif file.endswith('Sync.csv'):\n",
    "                sync=pd.read_csv(complete_data+participant+'/'+file)\n",
    "            elif file.endswith('Alone.csv'):\n",
    "                alone=pd.read_csv(complete_data+participant+'/'+file)\n",
    "        spontan_list.append(spontan)\n",
    "        sync_list.append(sync)\n",
    "        alone_list.append(alone)\n",
    "    return spontan_list,sync_list,alone_list"
   ]
  },
  {
   "cell_type": "code",
   "execution_count": 95,
   "id": "77b2cbce",
   "metadata": {},
   "outputs": [
    {
     "name": "stdout",
     "output_type": "stream",
     "text": [
      "number of files is:  9 , 9 , 9 in spontan, sync and alone respectively\n",
      "(9054, 22)\n",
      "(8998, 22)\n",
      "(9050, 22)\n",
      "(8937, 22)\n",
      "(8826, 22)\n",
      "(9054, 22)\n",
      "(9054, 22)\n",
      "(8773, 22)\n",
      "(4375, 22)\n",
      "(9052, 22)\n",
      "(9054, 22)\n",
      "(9039, 22)\n",
      "(9050, 22)\n",
      "(8395, 22)\n",
      "(9046, 22)\n",
      "(9054, 22)\n",
      "(8829, 22)\n",
      "(4500, 22)\n",
      "(4526, 22)\n",
      "(4575, 22)\n",
      "(4482, 22)\n",
      "(4527, 22)\n",
      "(4931, 22)\n",
      "(4526, 22)\n",
      "(4468, 22)\n",
      "(4537, 22)\n",
      "(2250, 22)\n"
     ]
    }
   ],
   "source": [
    "#train set\n",
    "complete_data=(r'C:\\Users\\meirk\\Desktop\\final_project_files\\extraFiles\\Training/')\n",
    "spontan_list, sync_list ,alone_list = spontan_list,sync_list,alone_list\n",
    "print (\"number of files is: \",len(spontan_list),',',len(sync_list),',',len(alone_list),\n",
    "       \"in spontan, sync and alone respectively\")\n",
    "#shapes of dfs\n",
    "train_list = [spontan_list,sync_list,alone_list]\n",
    "for list_ in train_list:\n",
    "    for file in list_:\n",
    "        print(file.shape)"
   ]
  },
  {
   "cell_type": "code",
   "execution_count": 98,
   "id": "7ecc1119",
   "metadata": {},
   "outputs": [
    {
     "name": "stdout",
     "output_type": "stream",
     "text": [
      "number of files in is:  9 , 9 , 9 in spontan, sync and alone respectively\n",
      "(9054, 22)\n",
      "(8998, 22)\n",
      "(9050, 22)\n",
      "(8937, 22)\n",
      "(8826, 22)\n",
      "(9054, 22)\n",
      "(9054, 22)\n",
      "(8773, 22)\n",
      "(4375, 22)\n",
      "(9052, 22)\n",
      "(9054, 22)\n",
      "(9039, 22)\n",
      "(9050, 22)\n",
      "(8395, 22)\n",
      "(9046, 22)\n",
      "(9054, 22)\n",
      "(8829, 22)\n",
      "(4500, 22)\n",
      "(4526, 22)\n",
      "(4575, 22)\n",
      "(4482, 22)\n",
      "(4527, 22)\n",
      "(4931, 22)\n",
      "(4526, 22)\n",
      "(4468, 22)\n",
      "(4537, 22)\n",
      "(2250, 22)\n"
     ]
    }
   ],
   "source": [
    "#validation set\n",
    "complete_data=(r'C:\\Users\\meirk\\Desktop\\final_project_files\\extraFiles\\Validation/')\n",
    "spontan_list_val, sync_list_val ,alone_list_val = spontan_list,sync_list,alone_list\n",
    "print (\"number of files in is: \",len(spontan_list),',',len(sync_list),',',len(alone_list),\n",
    "       \"in spontan, sync and alone respectively\")\n",
    "#shapes of dfs\n",
    "validation_list = [spontan_list_val, sync_list_val ,alone_list_val]\n",
    "for list_ in validation_list:\n",
    "    for file in list_:\n",
    "        print(file.shape)"
   ]
  },
  {
   "cell_type": "markdown",
   "id": "8fb136a1",
   "metadata": {},
   "source": [
    "We uploaded the data (both training and validation sets) into 3 lists, one for each scenario. Each list contains 9 files, a file for each participant."
   ]
  },
  {
   "cell_type": "code",
   "execution_count": 62,
   "id": "3518f7e2",
   "metadata": {},
   "outputs": [
    {
     "data": {
      "text/html": [
       "<div>\n",
       "<style scoped>\n",
       "    .dataframe tbody tr th:only-of-type {\n",
       "        vertical-align: middle;\n",
       "    }\n",
       "\n",
       "    .dataframe tbody tr th {\n",
       "        vertical-align: top;\n",
       "    }\n",
       "\n",
       "    .dataframe thead th {\n",
       "        text-align: right;\n",
       "    }\n",
       "</style>\n",
       "<table border=\"1\" class=\"dataframe\">\n",
       "  <thead>\n",
       "    <tr style=\"text-align: right;\">\n",
       "      <th></th>\n",
       "      <th>Time</th>\n",
       "      <th>Frame ID</th>\n",
       "      <th>Hand Type</th>\n",
       "      <th># hands</th>\n",
       "      <th>Position X</th>\n",
       "      <th>Position Y</th>\n",
       "      <th>Position Z</th>\n",
       "      <th>Velocity X</th>\n",
       "      <th>Velocity Y</th>\n",
       "      <th>Velocity Z</th>\n",
       "      <th>...</th>\n",
       "      <th>Yaw</th>\n",
       "      <th>Wrist Pos X</th>\n",
       "      <th>Wrist Pos Y</th>\n",
       "      <th>Wrist Pos Z</th>\n",
       "      <th>Elbow pos X</th>\n",
       "      <th>Elbow Pos Y</th>\n",
       "      <th>Elbow Pos Z</th>\n",
       "      <th>Grab Strenth</th>\n",
       "      <th>Grab Angle</th>\n",
       "      <th>Pinch Strength</th>\n",
       "    </tr>\n",
       "  </thead>\n",
       "  <tbody>\n",
       "    <tr>\n",
       "      <th>0</th>\n",
       "      <td>128.2883</td>\n",
       "      <td>15478</td>\n",
       "      <td>right</td>\n",
       "      <td>1</td>\n",
       "      <td>15.67167</td>\n",
       "      <td>226.2064</td>\n",
       "      <td>20.26470</td>\n",
       "      <td>34.26665</td>\n",
       "      <td>-195.214700</td>\n",
       "      <td>-35.043020</td>\n",
       "      <td>...</td>\n",
       "      <td>-0.277800</td>\n",
       "      <td>46.88831</td>\n",
       "      <td>207.3548</td>\n",
       "      <td>86.23589</td>\n",
       "      <td>203.8337</td>\n",
       "      <td>49.33507</td>\n",
       "      <td>237.4553</td>\n",
       "      <td>0.0</td>\n",
       "      <td>0.206389</td>\n",
       "      <td>0.0</td>\n",
       "    </tr>\n",
       "    <tr>\n",
       "      <th>1</th>\n",
       "      <td>128.3048</td>\n",
       "      <td>15480</td>\n",
       "      <td>right</td>\n",
       "      <td>1</td>\n",
       "      <td>16.24119</td>\n",
       "      <td>222.9389</td>\n",
       "      <td>20.11781</td>\n",
       "      <td>36.16443</td>\n",
       "      <td>-180.093900</td>\n",
       "      <td>-4.052799</td>\n",
       "      <td>...</td>\n",
       "      <td>-0.277763</td>\n",
       "      <td>47.54861</td>\n",
       "      <td>205.6568</td>\n",
       "      <td>86.42250</td>\n",
       "      <td>203.9553</td>\n",
       "      <td>47.88272</td>\n",
       "      <td>238.4482</td>\n",
       "      <td>0.0</td>\n",
       "      <td>0.243050</td>\n",
       "      <td>0.0</td>\n",
       "    </tr>\n",
       "    <tr>\n",
       "      <th>2</th>\n",
       "      <td>128.3218</td>\n",
       "      <td>15482</td>\n",
       "      <td>right</td>\n",
       "      <td>1</td>\n",
       "      <td>16.72461</td>\n",
       "      <td>220.9709</td>\n",
       "      <td>19.94972</td>\n",
       "      <td>26.35298</td>\n",
       "      <td>-95.088190</td>\n",
       "      <td>-11.157620</td>\n",
       "      <td>...</td>\n",
       "      <td>-0.278792</td>\n",
       "      <td>48.15030</td>\n",
       "      <td>204.5182</td>\n",
       "      <td>86.35149</td>\n",
       "      <td>204.6231</td>\n",
       "      <td>45.35921</td>\n",
       "      <td>236.8544</td>\n",
       "      <td>0.0</td>\n",
       "      <td>0.281134</td>\n",
       "      <td>0.0</td>\n",
       "    </tr>\n",
       "    <tr>\n",
       "      <th>3</th>\n",
       "      <td>128.3384</td>\n",
       "      <td>15484</td>\n",
       "      <td>right</td>\n",
       "      <td>1</td>\n",
       "      <td>17.09016</td>\n",
       "      <td>219.7124</td>\n",
       "      <td>19.67679</td>\n",
       "      <td>19.46804</td>\n",
       "      <td>-61.755180</td>\n",
       "      <td>-21.303780</td>\n",
       "      <td>...</td>\n",
       "      <td>-0.279768</td>\n",
       "      <td>48.64175</td>\n",
       "      <td>203.9989</td>\n",
       "      <td>86.16056</td>\n",
       "      <td>204.9939</td>\n",
       "      <td>44.18692</td>\n",
       "      <td>236.0927</td>\n",
       "      <td>0.0</td>\n",
       "      <td>0.277691</td>\n",
       "      <td>0.0</td>\n",
       "    </tr>\n",
       "    <tr>\n",
       "      <th>4</th>\n",
       "      <td>128.3551</td>\n",
       "      <td>15486</td>\n",
       "      <td>right</td>\n",
       "      <td>1</td>\n",
       "      <td>17.46017</td>\n",
       "      <td>219.3652</td>\n",
       "      <td>19.13128</td>\n",
       "      <td>21.94964</td>\n",
       "      <td>-8.355943</td>\n",
       "      <td>-35.081790</td>\n",
       "      <td>...</td>\n",
       "      <td>-0.278629</td>\n",
       "      <td>48.93135</td>\n",
       "      <td>203.3777</td>\n",
       "      <td>85.59017</td>\n",
       "      <td>204.5952</td>\n",
       "      <td>42.68003</td>\n",
       "      <td>235.2896</td>\n",
       "      <td>0.0</td>\n",
       "      <td>0.283008</td>\n",
       "      <td>0.0</td>\n",
       "    </tr>\n",
       "  </tbody>\n",
       "</table>\n",
       "<p>5 rows × 22 columns</p>\n",
       "</div>"
      ],
      "text/plain": [
       "       Time   Frame ID  Hand Type   # hands   Position X   Position Y  \\\n",
       "0  128.2883      15478      right         1     15.67167     226.2064   \n",
       "1  128.3048      15480      right         1     16.24119     222.9389   \n",
       "2  128.3218      15482      right         1     16.72461     220.9709   \n",
       "3  128.3384      15484      right         1     17.09016     219.7124   \n",
       "4  128.3551      15486      right         1     17.46017     219.3652   \n",
       "\n",
       "    Position Z   Velocity X   Velocity Y   Velocity Z  ...       Yaw  \\\n",
       "0     20.26470     34.26665  -195.214700   -35.043020  ... -0.277800   \n",
       "1     20.11781     36.16443  -180.093900    -4.052799  ... -0.277763   \n",
       "2     19.94972     26.35298   -95.088190   -11.157620  ... -0.278792   \n",
       "3     19.67679     19.46804   -61.755180   -21.303780  ... -0.279768   \n",
       "4     19.13128     21.94964    -8.355943   -35.081790  ... -0.278629   \n",
       "\n",
       "    Wrist Pos X   Wrist Pos Y   Wrist Pos Z   Elbow pos X   Elbow Pos Y  \\\n",
       "0      46.88831      207.3548      86.23589      203.8337      49.33507   \n",
       "1      47.54861      205.6568      86.42250      203.9553      47.88272   \n",
       "2      48.15030      204.5182      86.35149      204.6231      45.35921   \n",
       "3      48.64175      203.9989      86.16056      204.9939      44.18692   \n",
       "4      48.93135      203.3777      85.59017      204.5952      42.68003   \n",
       "\n",
       "    Elbow Pos Z   Grab Strenth   Grab Angle   Pinch Strength  \n",
       "0      237.4553            0.0     0.206389              0.0  \n",
       "1      238.4482            0.0     0.243050              0.0  \n",
       "2      236.8544            0.0     0.281134              0.0  \n",
       "3      236.0927            0.0     0.277691              0.0  \n",
       "4      235.2896            0.0     0.283008              0.0  \n",
       "\n",
       "[5 rows x 22 columns]"
      ]
     },
     "execution_count": 62,
     "metadata": {},
     "output_type": "execute_result"
    }
   ],
   "source": [
    "#HandRight\n",
    "right_hand = pd.read_csv(r'C:\\Users\\meirk\\Desktop\\final_project_files\\extraFiles\\HandRight.csv')\n",
    "right_hand.head()"
   ]
  },
  {
   "cell_type": "code",
   "execution_count": 99,
   "id": "7d9fc08e",
   "metadata": {},
   "outputs": [
    {
     "data": {
      "text/plain": [
       "(4812, 22)"
      ]
     },
     "execution_count": 99,
     "metadata": {},
     "output_type": "execute_result"
    }
   ],
   "source": [
    "right_hand.shape"
   ]
  },
  {
   "cell_type": "markdown",
   "id": "e2d7bb2a",
   "metadata": {},
   "source": [
    "## preprocessing"
   ]
  },
  {
   "cell_type": "markdown",
   "id": "c90cc239",
   "metadata": {},
   "source": [
    "###### Search for NaN values"
   ]
  },
  {
   "cell_type": "code",
   "execution_count": 88,
   "id": "b4402136",
   "metadata": {},
   "outputs": [
    {
     "name": "stdout",
     "output_type": "stream",
     "text": [
      "train set\n",
      "number of NaN values in train set is:  0\n",
      "validation set\n",
      "number of NaN values in validation test is:  0\n",
      "right hand set\n",
      "number of NaN values in right hand set is:  2304\n"
     ]
    }
   ],
   "source": [
    "nan_sum = 0\n",
    "#train set\n",
    "print(\"train set\")\n",
    "for list_ in train_list:\n",
    "    for file in list_:\n",
    "        nan_sum += file.isna().sum().sum()\n",
    "print(\"number of NaN values in train set is: \",nan_sum)\n",
    "#validation set\n",
    "print(\"validation set\")\n",
    "validation_list = [spontan_list_val, sync_list_val ,alone_list_val]\n",
    "for list_ in validation_list:\n",
    "    for file in list_:\n",
    "        nan_sum = file.isna().sum().sum()\n",
    "print(\"number of NaN values in validation test is: \",nan_sum)\n",
    "#right hand\n",
    "print(\"right hand set\")\n",
    "print(\"number of NaN values in right hand set is: \",right_hand.isna().sum().sum())"
   ]
  },
  {
   "cell_type": "markdown",
   "id": "3dd63684",
   "metadata": {},
   "source": [
    "###### converting 'Hand Type' to ones - right and zeros - left"
   ]
  },
  {
   "cell_type": "code",
   "execution_count": 65,
   "id": "89a989af",
   "metadata": {},
   "outputs": [],
   "source": [
    "def convert_to_1and0 (column):\n",
    "    for index in range(len(column)):\n",
    "        if column.loc[index] == 'right':\n",
    "            column.loc[index] = 1\n",
    "        else:\n",
    "            column.loc[index] = 0"
   ]
  },
  {
   "cell_type": "code",
   "execution_count": 54,
   "id": "746aaa2a",
   "metadata": {},
   "outputs": [
    {
     "data": {
      "text/plain": [
       "(4812,)"
      ]
     },
     "execution_count": 54,
     "metadata": {},
     "output_type": "execute_result"
    }
   ],
   "source": [
    "right_hand[' Hand Type'].shape"
   ]
  },
  {
   "cell_type": "code",
   "execution_count": 83,
   "id": "cc123eb0",
   "metadata": {},
   "outputs": [
    {
     "data": {
      "text/plain": [
       "Time                 0\n",
       " Frame ID            0\n",
       " Hand Type           0\n",
       " # hands             0\n",
       " Position X          0\n",
       " Position Y          0\n",
       " Position Z          0\n",
       " Velocity X          0\n",
       " Velocity Y          0\n",
       " Velocity Z          0\n",
       " Pitch               0\n",
       " Roll                0\n",
       " Yaw                 0\n",
       " Wrist Pos X       384\n",
       " Wrist Pos Y       384\n",
       " Wrist Pos Z       384\n",
       " Elbow pos X       384\n",
       " Elbow Pos Y       384\n",
       " Elbow Pos Z       384\n",
       " Grab Strenth        0\n",
       " Grab Angle          0\n",
       " Pinch Strength      0\n",
       "dtype: int64"
      ]
     },
     "execution_count": 83,
     "metadata": {},
     "output_type": "execute_result"
    }
   ],
   "source": [
    "right_hand.isna().sum()"
   ]
  },
  {
   "cell_type": "code",
   "execution_count": null,
   "id": "e8d91be1",
   "metadata": {},
   "outputs": [],
   "source": []
  }
 ],
 "metadata": {
  "kernelspec": {
   "display_name": "Python 3",
   "language": "python",
   "name": "python3"
  },
  "language_info": {
   "codemirror_mode": {
    "name": "ipython",
    "version": 3
   },
   "file_extension": ".py",
   "mimetype": "text/x-python",
   "name": "python",
   "nbconvert_exporter": "python",
   "pygments_lexer": "ipython3",
   "version": "3.8.8"
  }
 },
 "nbformat": 4,
 "nbformat_minor": 5
}
