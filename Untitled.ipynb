{
 "cells": [
  {
   "cell_type": "code",
   "execution_count": 22,
   "id": "e7feded2",
   "metadata": {},
   "outputs": [],
   "source": [
    "import os\n",
    "import cv2\n",
    "import matplotlib.pyplot as plt\n",
    "import matplotlib.image as mpimg\n",
    "import numpy as np\n",
    "import pandas as pd\n",
    "from sklearn.decomposition import PCA"
   ]
  },
  {
   "cell_type": "code",
   "execution_count": 7,
   "id": "b1e20b4c",
   "metadata": {},
   "outputs": [
    {
     "name": "stdout",
     "output_type": "stream",
     "text": [
      "Done\n",
      "Done\n"
     ]
    }
   ],
   "source": [
    "train_dir = r'C:\\Users\\meirk\\Desktop\\train\\train/'\n",
    "\n",
    "train_images_filepath = [train_dir + last_file_name for last_file_name in os.listdir(train_dir)]\n",
    "print(\"Done\")\n",
    "train_dogs_filepaths = [train_dir + dog_file_name for dog_file_name in os.listdir(train_dir) if 'dog' in dog_file_name]\n",
    "train_cats_filepaths = [train_dir + cat_file_name for cat_file_name in os.listdir(train_dir) if 'cat' in cat_file_name]\n",
    "print(\"Done\")"
   ]
  },
  {
   "cell_type": "code",
   "execution_count": 14,
   "id": "4f5a08e8",
   "metadata": {},
   "outputs": [],
   "source": [
    "def read_image(file_path):\n",
    "    img = cv2.imread(file_path,0)\n",
    "    return cv2.resize(img, (64, 64))"
   ]
  },
  {
   "cell_type": "code",
   "execution_count": 15,
   "id": "11ee8826",
   "metadata": {},
   "outputs": [],
   "source": [
    "def prep_data(images):\n",
    "    m = len(images)\n",
    "    n_x = 4096\n",
    "    X = np.ndarray((m, n_x), dtype=np.uint8)\n",
    "    y = np.zeros((m, 1))\n",
    "\n",
    "    for i, image_file in enumerate(images):\n",
    "        image = read_image(image_file)\n",
    "       # image = plt.imread(image_file, 0)\n",
    "        X[i, :] = np.squeeze(image.reshape((n_x, 1)))\n",
    "        if '/dog' in image_file:\n",
    "            y[i, 0] = 1\n",
    "        elif '/cat' in image_file:\n",
    "             y[i, 0] = 0\n",
    "        \n",
    "    return X, y"
   ]
  },
  {
   "cell_type": "code",
   "execution_count": 21,
   "id": "dceab096",
   "metadata": {},
   "outputs": [],
   "source": [
    "data,taget = prep_data(train_images_filepath)\n",
    "X_dogs, y_dogs = prep_data(train_dogs_filepaths)\n",
    "x_cats, y_cats = prep_data(train_cats_filepaths)"
   ]
  },
  {
   "cell_type": "code",
   "execution_count": 20,
   "id": "aa3688cd",
   "metadata": {},
   "outputs": [
    {
     "name": "stdout",
     "output_type": "stream",
     "text": [
      "       0     1     2     3     4     5     6     7     8     9     ...  4086  \\\n",
      "0       115   144   161   163   131   134   128   137   140   141  ...   143   \n",
      "1       110   122   101   110    94   116   107   120   119    84  ...   239   \n",
      "2       114   100    97   124   119   119   125   126   125   129  ...   113   \n",
      "3       187   183   180   183   182   185   182   181   186   190  ...    56   \n",
      "4        15     8    12    53    47    68    58    49     7    62  ...   117   \n",
      "...     ...   ...   ...   ...   ...   ...   ...   ...   ...   ...  ...   ...   \n",
      "12495   141   142   145   147   148   148   150   151   152   153  ...   164   \n",
      "12496    90    86    84    98    67    94    86    64    75   100  ...    63   \n",
      "12497    38    48    46    38    49    54    44    64    45    34  ...    51   \n",
      "12498   254   246   228   195   144    96    66    71    89    64  ...    96   \n",
      "12499   241   243   241   241   247   247   245   243   243   245  ...   254   \n",
      "\n",
      "       4087  4088  4089  4090  4091  4092  4093  4094  4095  \n",
      "0        96    94    84    79    75    71    76    74    86  \n",
      "1       247   242   233   245   246   245   240   239   233  \n",
      "2        61    39    50    95    96    93    93    91    93  \n",
      "3        56    55    58    63    71    82    62    61    67  \n",
      "4       120   128   126   104   115   109   115   122   117  \n",
      "...     ...   ...   ...   ...   ...   ...   ...   ...   ...  \n",
      "12495   163   164   164   165   167   167   168   168   169  \n",
      "12496    71    80    90    90    90    78    87   114    68  \n",
      "12497   157   141   114   137   101    99   212   136   170  \n",
      "12498   101   112    87    71    96    95   121   116   118  \n",
      "12499   254   254   254   254   254   254   254   254   254  \n",
      "\n",
      "[12500 rows x 4096 columns]\n",
      "         0\n",
      "0      1.0\n",
      "1      1.0\n",
      "2      1.0\n",
      "3      1.0\n",
      "4      1.0\n",
      "...    ...\n",
      "12495  1.0\n",
      "12496  1.0\n",
      "12497  1.0\n",
      "12498  1.0\n",
      "12499  1.0\n",
      "\n",
      "[12500 rows x 1 columns]\n",
      "       0     1     2     3     4     5     6     7     8     9     ...  4086  \\\n",
      "0       170   176   183   188   192   196   200   202   205   208  ...    10   \n",
      "1        43    42    36    29    41    43    72    38    37    37  ...    77   \n",
      "2        45    46    46    57    56    51    58    50    51    46  ...    76   \n",
      "3       220   222   231   226   234   226   225   227   229   226  ...   248   \n",
      "4       114   122    86    90   138   148   133   192   210   230  ...   100   \n",
      "...     ...   ...   ...   ...   ...   ...   ...   ...   ...   ...  ...   ...   \n",
      "12495    24    23    22    21    21    20    20    21    18    17  ...    65   \n",
      "12496   102    92    94    92    95   101    95    94    94   130  ...   107   \n",
      "12497    95    96    96   107    95    95   108   136   157   168  ...   254   \n",
      "12498    58    51   128   151   158   160   161   161   162   164  ...   192   \n",
      "12499    40    31    28    31    37    30    87   133   152   153  ...    54   \n",
      "\n",
      "       4087  4088  4089  4090  4091  4092  4093  4094  4095  \n",
      "0         9     3     3     3     2     2     2     2     2  \n",
      "1        64    38    39    56    58    53    72    68    29  \n",
      "2        79    90   142   162   150   139   151   171   158  \n",
      "3       240   234   228   212   205   205   220   214   213  \n",
      "4        98   105    94    91    88    98   106    94    87  \n",
      "...     ...   ...   ...   ...   ...   ...   ...   ...   ...  \n",
      "12495    76    71    82    67    77    71    76    74    77  \n",
      "12496   106   107   104   104   103   103   101   100   100  \n",
      "12497   254   255   254   255   254   254   254   254   254  \n",
      "12498   194   208   206   200   205   213   231   219   217  \n",
      "12499    13    47    26    63    83    77    79    82    80  \n",
      "\n",
      "[12500 rows x 4096 columns]\n",
      "         0\n",
      "0      0.0\n",
      "1      0.0\n",
      "2      0.0\n",
      "3      0.0\n",
      "4      0.0\n",
      "...    ...\n",
      "12495  0.0\n",
      "12496  0.0\n",
      "12497  0.0\n",
      "12498  0.0\n",
      "12499  0.0\n",
      "\n",
      "[12500 rows x 1 columns]\n"
     ]
    }
   ],
   "source": [
    "pca = PCA(n_components=0.95)\n",
    "data_pca = pca.fit_transform(data)\n"
   ]
  },
  {
   "cell_type": "code",
   "execution_count": null,
   "id": "2af96b4f",
   "metadata": {},
   "outputs": [],
   "source": []
  }
 ],
 "metadata": {
  "kernelspec": {
   "display_name": "Python 3",
   "language": "python",
   "name": "python3"
  },
  "language_info": {
   "codemirror_mode": {
    "name": "ipython",
    "version": 3
   },
   "file_extension": ".py",
   "mimetype": "text/x-python",
   "name": "python",
   "nbconvert_exporter": "python",
   "pygments_lexer": "ipython3",
   "version": "3.8.8"
  }
 },
 "nbformat": 4,
 "nbformat_minor": 5
}
