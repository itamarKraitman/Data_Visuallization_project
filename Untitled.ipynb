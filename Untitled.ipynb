{
 "cells": [
  {
   "cell_type": "code",
   "execution_count": 2,
   "id": "5f9e2d19",
   "metadata": {},
   "outputs": [],
   "source": [
    "import os\n",
    "import cv2\n",
    "import matplotlib.pyplot as plt\n",
    "import matplotlib.image as mpimg\n",
    "import numpy as np\n",
    "import pandas as pd\n",
    "import seaborn as sns\n",
    "from PIL import Image as im\n",
    "import random\n",
    "\n",
    "from sklearn.preprocessing import StandardScaler\n",
    "from sklearn.decomposition import PCA\n",
    "\n",
    "from sklearn.model_selection import train_test_split, GridSearchCV\n",
    "\n",
    "from sklearn.linear_model import LogisticRegression\n",
    "from sklearn import metrics\n",
    "from xgboost import XGBClassifier"
   ]
  },
  {
   "cell_type": "markdown",
   "id": "9e2313d0",
   "metadata": {},
   "source": [
    "### Uplodaing the data"
   ]
  },
  {
   "cell_type": "code",
   "execution_count": 3,
   "id": "d8f4eb92",
   "metadata": {},
   "outputs": [
    {
     "name": "stdout",
     "output_type": "stream",
     "text": [
      "Done\n",
      "Done\n"
     ]
    }
   ],
   "source": [
    "train_dir = r'C:\\Users\\meirk\\Desktop\\train\\train/'\n",
    "\n",
    "train_images_filepath = [train_dir + last_file_name for last_file_name in os.listdir(train_dir)]\n",
    "print(\"Done\")\n",
    "train_dogs_filepaths = [train_dir + dog_file_name for dog_file_name in os.listdir(train_dir) if 'dog' in dog_file_name]\n",
    "train_cats_filepaths = [train_dir + cat_file_name for cat_file_name in os.listdir(train_dir) if 'cat' in cat_file_name]\n",
    "print(\"Done\")"
   ]
  },
  {
   "cell_type": "code",
   "execution_count": 4,
   "id": "cc596150",
   "metadata": {},
   "outputs": [],
   "source": [
    "def read_image(file_path):\n",
    "    #grayscaling whan uploasding using cv2\n",
    "    img = cv2.imread(file_path,0)\n",
    "    return cv2.resize(img, (64, 64))"
   ]
  },
  {
   "cell_type": "code",
   "execution_count": 5,
   "id": "68e6a483",
   "metadata": {},
   "outputs": [],
   "source": [
    "def prep_data(images):\n",
    "    m = len(images)\n",
    "    n_x = 4096\n",
    "    X = np.ndarray((m, n_x), dtype=np.uint8)\n",
    "    y = np.zeros((m, 1))\n",
    "\n",
    "    for i, image_file in enumerate(images):\n",
    "        image = read_image(image_file)\n",
    "       # image = plt.imread(image_file, 0)\n",
    "        X[i, :] = np.squeeze(image.reshape((n_x, 1)))\n",
    "        if '/dog' in image_file:\n",
    "            y[i, 0] = 1\n",
    "        elif '/cat' in image_file:\n",
    "             y[i, 0] = 0\n",
    "        \n",
    "    return X, y"
   ]
  },
  {
   "cell_type": "code",
   "execution_count": 6,
   "id": "6e1592f6",
   "metadata": {},
   "outputs": [
    {
     "ename": "KeyboardInterrupt",
     "evalue": "",
     "output_type": "error",
     "traceback": [
      "\u001b[1;31m---------------------------------------------------------------------------\u001b[0m",
      "\u001b[1;31mKeyboardInterrupt\u001b[0m                         Traceback (most recent call last)",
      "\u001b[1;32m<ipython-input-6-5db370930acd>\u001b[0m in \u001b[0;36m<module>\u001b[1;34m\u001b[0m\n\u001b[1;32m----> 1\u001b[1;33m \u001b[0mdata\u001b[0m\u001b[1;33m,\u001b[0m\u001b[0mtarget\u001b[0m \u001b[1;33m=\u001b[0m \u001b[0mprep_data\u001b[0m\u001b[1;33m(\u001b[0m\u001b[0mtrain_images_filepath\u001b[0m\u001b[1;33m)\u001b[0m\u001b[1;33m\u001b[0m\u001b[1;33m\u001b[0m\u001b[0m\n\u001b[0m\u001b[0;32m      2\u001b[0m \u001b[1;31m#X_dogs, y_dogs = prep_data(train_dogs_filepaths)\u001b[0m\u001b[1;33m\u001b[0m\u001b[1;33m\u001b[0m\u001b[1;33m\u001b[0m\u001b[0m\n\u001b[0;32m      3\u001b[0m \u001b[1;31m#x_cats, y_cats = prep_data(train_cats_filepaths)\u001b[0m\u001b[1;33m\u001b[0m\u001b[1;33m\u001b[0m\u001b[1;33m\u001b[0m\u001b[0m\n",
      "\u001b[1;32m<ipython-input-5-b4d2c239e8da>\u001b[0m in \u001b[0;36mprep_data\u001b[1;34m(images)\u001b[0m\n\u001b[0;32m      6\u001b[0m \u001b[1;33m\u001b[0m\u001b[0m\n\u001b[0;32m      7\u001b[0m     \u001b[1;32mfor\u001b[0m \u001b[0mi\u001b[0m\u001b[1;33m,\u001b[0m \u001b[0mimage_file\u001b[0m \u001b[1;32min\u001b[0m \u001b[0menumerate\u001b[0m\u001b[1;33m(\u001b[0m\u001b[0mimages\u001b[0m\u001b[1;33m)\u001b[0m\u001b[1;33m:\u001b[0m\u001b[1;33m\u001b[0m\u001b[1;33m\u001b[0m\u001b[0m\n\u001b[1;32m----> 8\u001b[1;33m         \u001b[0mimage\u001b[0m \u001b[1;33m=\u001b[0m \u001b[0mread_image\u001b[0m\u001b[1;33m(\u001b[0m\u001b[0mimage_file\u001b[0m\u001b[1;33m)\u001b[0m\u001b[1;33m\u001b[0m\u001b[1;33m\u001b[0m\u001b[0m\n\u001b[0m\u001b[0;32m      9\u001b[0m        \u001b[1;31m# image = plt.imread(image_file, 0)\u001b[0m\u001b[1;33m\u001b[0m\u001b[1;33m\u001b[0m\u001b[1;33m\u001b[0m\u001b[0m\n\u001b[0;32m     10\u001b[0m         \u001b[0mX\u001b[0m\u001b[1;33m[\u001b[0m\u001b[0mi\u001b[0m\u001b[1;33m,\u001b[0m \u001b[1;33m:\u001b[0m\u001b[1;33m]\u001b[0m \u001b[1;33m=\u001b[0m \u001b[0mnp\u001b[0m\u001b[1;33m.\u001b[0m\u001b[0msqueeze\u001b[0m\u001b[1;33m(\u001b[0m\u001b[0mimage\u001b[0m\u001b[1;33m.\u001b[0m\u001b[0mreshape\u001b[0m\u001b[1;33m(\u001b[0m\u001b[1;33m(\u001b[0m\u001b[0mn_x\u001b[0m\u001b[1;33m,\u001b[0m \u001b[1;36m1\u001b[0m\u001b[1;33m)\u001b[0m\u001b[1;33m)\u001b[0m\u001b[1;33m)\u001b[0m\u001b[1;33m\u001b[0m\u001b[1;33m\u001b[0m\u001b[0m\n",
      "\u001b[1;32m<ipython-input-4-d6d2dbc339be>\u001b[0m in \u001b[0;36mread_image\u001b[1;34m(file_path)\u001b[0m\n\u001b[0;32m      1\u001b[0m \u001b[1;32mdef\u001b[0m \u001b[0mread_image\u001b[0m\u001b[1;33m(\u001b[0m\u001b[0mfile_path\u001b[0m\u001b[1;33m)\u001b[0m\u001b[1;33m:\u001b[0m\u001b[1;33m\u001b[0m\u001b[1;33m\u001b[0m\u001b[0m\n\u001b[0;32m      2\u001b[0m     \u001b[1;31m#grayscaling whan uploasding using cv2\u001b[0m\u001b[1;33m\u001b[0m\u001b[1;33m\u001b[0m\u001b[1;33m\u001b[0m\u001b[0m\n\u001b[1;32m----> 3\u001b[1;33m     \u001b[0mimg\u001b[0m \u001b[1;33m=\u001b[0m \u001b[0mcv2\u001b[0m\u001b[1;33m.\u001b[0m\u001b[0mimread\u001b[0m\u001b[1;33m(\u001b[0m\u001b[0mfile_path\u001b[0m\u001b[1;33m,\u001b[0m\u001b[1;36m0\u001b[0m\u001b[1;33m)\u001b[0m\u001b[1;33m\u001b[0m\u001b[1;33m\u001b[0m\u001b[0m\n\u001b[0m\u001b[0;32m      4\u001b[0m     \u001b[1;32mreturn\u001b[0m \u001b[0mcv2\u001b[0m\u001b[1;33m.\u001b[0m\u001b[0mresize\u001b[0m\u001b[1;33m(\u001b[0m\u001b[0mimg\u001b[0m\u001b[1;33m,\u001b[0m \u001b[1;33m(\u001b[0m\u001b[1;36m64\u001b[0m\u001b[1;33m,\u001b[0m \u001b[1;36m64\u001b[0m\u001b[1;33m)\u001b[0m\u001b[1;33m)\u001b[0m\u001b[1;33m\u001b[0m\u001b[1;33m\u001b[0m\u001b[0m\n",
      "\u001b[1;31mKeyboardInterrupt\u001b[0m: "
     ]
    }
   ],
   "source": [
    "data,target = prep_data(train_images_filepath)\n",
    "#X_dogs, y_dogs = prep_data(train_dogs_filepaths)\n",
    "#x_cats, y_cats = prep_data(train_cats_filepaths)"
   ]
  },
  {
   "cell_type": "code",
   "execution_count": null,
   "id": "101e5a69",
   "metadata": {},
   "outputs": [],
   "source": [
    "data_df = pd.DataFrame(data)\n",
    "data_df"
   ]
  },
  {
   "cell_type": "markdown",
   "id": "c4412dfc",
   "metadata": {},
   "source": [
    "## Data visualization"
   ]
  },
  {
   "cell_type": "code",
   "execution_count": null,
   "id": "628c2d62",
   "metadata": {},
   "outputs": [],
   "source": [
    "data_df.isna().sum()"
   ]
  },
  {
   "cell_type": "code",
   "execution_count": null,
   "id": "46a73cdf",
   "metadata": {},
   "outputs": [],
   "source": [
    "labels = pd.DataFrame(data=target, columns=['label'])\n",
    "counts = labels.value_counts()\n",
    "sns.catplot(data=counts,kind='count',height=5,aspect=1.5,x=['cats','dogs'])\n",
    "sns"
   ]
  },
  {
   "cell_type": "markdown",
   "id": "e4dc605d",
   "metadata": {},
   "source": [
    "Lets look on some random images to make sure the data did uploaded in gratscale"
   ]
  },
  {
   "cell_type": "code",
   "execution_count": null,
   "id": "9b30d94a",
   "metadata": {},
   "outputs": [],
   "source": [
    "plt.figure(figsize=(16,16))\n",
    "\n",
    "for i in range(0,6):\n",
    "    index = random.randint(0,24999)\n",
    "   # plt.imshow(data[index].reshape(64,64),interpolation='nearest')\n",
    "    fig = plt.subplot(4,4,i+1)\n",
    "    fig.axis('off')\n",
    "    fig.imshow(data[index].reshape(64,64)) "
   ]
  },
  {
   "cell_type": "markdown",
   "id": "1282d840",
   "metadata": {},
   "source": [
    "## PCA"
   ]
  },
  {
   "cell_type": "code",
   "execution_count": null,
   "id": "fc633291",
   "metadata": {},
   "outputs": [],
   "source": [
    "pca = PCA(n_components=0.95)\n",
    "data_pca = pca.fit_transform(data)"
   ]
  },
  {
   "cell_type": "code",
   "execution_count": null,
   "id": "b1b0e210",
   "metadata": {},
   "outputs": [],
   "source": [
    "pd.DataFrame(data=data_pca)"
   ]
  },
  {
   "cell_type": "markdown",
   "id": "aae7b1eb",
   "metadata": {},
   "source": [
    "## Scaling"
   ]
  },
  {
   "cell_type": "code",
   "execution_count": null,
   "id": "795ede5f",
   "metadata": {},
   "outputs": [],
   "source": [
    "scaler = StandardScaler()\n",
    "data_pca_scaled = scaler.fit_transform(data_pca)"
   ]
  },
  {
   "cell_type": "code",
   "execution_count": null,
   "id": "e6c722ea",
   "metadata": {},
   "outputs": [],
   "source": [
    "pd.DataFrame(data=data_pca_scaled)"
   ]
  },
  {
   "cell_type": "markdown",
   "id": "a2e2a512",
   "metadata": {},
   "source": [
    "953 dimentions instead of 4095."
   ]
  },
  {
   "cell_type": "code",
   "execution_count": null,
   "id": "05954cbf",
   "metadata": {},
   "outputs": [],
   "source": [
    "x_train_pca_, x_test_pca_, y_train_pca_, y_test_pca_ = train_test_split(data_pca_scaled, target, test_size=0.3, random_state=42)"
   ]
  },
  {
   "cell_type": "code",
   "execution_count": null,
   "id": "2b89f7b9",
   "metadata": {},
   "outputs": [],
   "source": [
    "log_reg = LogisticRegression()\n",
    "log_reg.fit(x_train_pca_,y_train_pca_.ravel())\n",
    "log_pred = log_reg.predict(x_test_pca_)"
   ]
  },
  {
   "cell_type": "code",
   "execution_count": null,
   "id": "fa04b168",
   "metadata": {},
   "outputs": [],
   "source": [
    "print(metrics.accuracy_score(y_true=y_test_pca_,y_pred=log_pred))"
   ]
  },
  {
   "cell_type": "code",
   "execution_count": null,
   "id": "95c6e468",
   "metadata": {},
   "outputs": [],
   "source": [
    "#params = {'n_estimators':range(1,100,3),'max_depth':range(1,30,5),'learning_rate':[0.3,0.5,0.8],\n",
    " #        'booster':['gbtree','gblinear','dart']}\n",
    "#grid_xgb = GridSearchCV(estimator=XGBClassifier(use_label_encoder=False,eval_metric='mlogloss'),param_grid=params,cv=5,return_train_score=False)\n",
    "#grid_xgb.fit(x_train_pca_,y_train_pca_.ravel())\n",
    "#print(grid_xgb.best_estimators_, grid_xgb.best_score_)"
   ]
  },
  {
   "cell_type": "code",
   "execution_count": null,
   "id": "bfc38a1a",
   "metadata": {},
   "outputs": [],
   "source": [
    "xgb_clf = XGBClassifier(use_label_encoder=False,eval_metric='mlogloss')\n",
    "xgb_clf.fit(x_train_pca_,y_train_pca_ )\n",
    "xgb_pred = xgb_clf.predict(x_test_pca_)"
   ]
  },
  {
   "cell_type": "code",
   "execution_count": null,
   "id": "1599c0fa",
   "metadata": {},
   "outputs": [],
   "source": [
    "print(metrics.accuracy_score(y_true=y_test_pca_,y_pred=xgb_pred))"
   ]
  },
  {
   "cell_type": "code",
   "execution_count": null,
   "id": "4009d7ae",
   "metadata": {},
   "outputs": [],
   "source": []
  }
 ],
 "metadata": {
  "kernelspec": {
   "display_name": "Python 3",
   "language": "python",
   "name": "python3"
  },
  "language_info": {
   "codemirror_mode": {
    "name": "ipython",
    "version": 3
   },
   "file_extension": ".py",
   "mimetype": "text/x-python",
   "name": "python",
   "nbconvert_exporter": "python",
   "pygments_lexer": "ipython3",
   "version": "3.8.8"
  }
 },
 "nbformat": 4,
 "nbformat_minor": 5
}
