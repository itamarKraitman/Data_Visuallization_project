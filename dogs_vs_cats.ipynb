{
 "cells": [
  {
   "cell_type": "code",
   "execution_count": 17,
   "metadata": {
    "collapsed": true
   },
   "outputs": [],
   "source": [
    "import os, cv2\n",
    "import pandas as pd\n",
    "import numpy as np\n",
    "\n",
    "ROWS = 64\n",
    "COLS = 64\n",
    "CHANNELS = 3"
   ]
  },
  {
   "cell_type": "code",
   "execution_count": 16,
   "outputs": [],
   "source": [],
   "metadata": {
    "collapsed": false,
    "pycharm": {
     "name": "#%%\n"
    }
   }
  },
  {
   "cell_type": "code",
   "execution_count": 32,
   "outputs": [],
   "source": [
    "train_path = r'C:\\Users\\meirk\\Desktop\\train\\train/'"
   ],
   "metadata": {
    "collapsed": false,
    "pycharm": {
     "name": "#%%\n"
    }
   }
  },
  {
   "cell_type": "code",
   "execution_count": 33,
   "outputs": [],
   "source": [
    "train_images = [train_path + i for i in os.listdir(train_path)]\n"
   ],
   "metadata": {
    "collapsed": false,
    "pycharm": {
     "name": "#%%\n"
    }
   }
  },
  {
   "cell_type": "code",
   "execution_count": 34,
   "outputs": [],
   "source": [
    "def read_image(file_path):\n",
    "    img = cv2.imread(file_path, cv2.IMREAD_COLOR)\n",
    "    return cv2.resize(img, (ROWS, COLS))\n"
   ],
   "metadata": {
    "collapsed": false,
    "pycharm": {
     "name": "#%%\n"
    }
   }
  },
  {
   "cell_type": "code",
   "execution_count": 35,
   "outputs": [],
   "source": [
    "def prep_data(images):\n",
    "    m = len(images)\n",
    "    n_x = ROWS * COLS * CHANNELS\n",
    "    X = np.ndarray((m, n_x), dtype=np.uint8)\n",
    "    y = np.zeros((m, 1))\n",
    "\n",
    "    for i, image_file in enumerate(images):\n",
    "        image = read_image(image_file)\n",
    "        X[i, :] = np.squeeze(image.reshape((n_x, 1)))\n",
    "        if '/dog' in image_file:\n",
    "            y[i, 0] = 1\n",
    "        elif '/cat' in image_file:\n",
    "             y[i, 0] = 1\n",
    "    return X, y"
   ],
   "metadata": {
    "collapsed": false,
    "pycharm": {
     "name": "#%%\n"
    }
   }
  },
  {
   "cell_type": "code",
   "execution_count": 36,
   "outputs": [],
   "source": [
    "X, y = prep_data(train_images)"
   ],
   "metadata": {
    "collapsed": false,
    "pycharm": {
     "name": "#%%\n"
    }
   }
  },
  {
   "cell_type": "code",
   "execution_count": 37,
   "outputs": [
    {
     "data": {
      "text/plain": "   0      1      2      3      4      5      6      7      8      9      ...  \\\n0     90    167    206     96    173    212    101    179    222    106  ...   \n1     43     44     40     48     42     39     39     37     33     31  ...   \n2     54     45     40     59     45     41     58     47     42     68  ...   \n\n   12278  12279  12280  12281  12282  12283  12284  12285  12286  12287  \n0      2      0      2      2      0      2      2      0      2      2  \n1     66     63     67     85     59     64     80     19     26     39  \n2    154      0    169    173      4    192    193     11    175    180  \n\n[3 rows x 12288 columns]",
      "text/html": "<div>\n<style scoped>\n    .dataframe tbody tr th:only-of-type {\n        vertical-align: middle;\n    }\n\n    .dataframe tbody tr th {\n        vertical-align: top;\n    }\n\n    .dataframe thead th {\n        text-align: right;\n    }\n</style>\n<table border=\"1\" class=\"dataframe\">\n  <thead>\n    <tr style=\"text-align: right;\">\n      <th></th>\n      <th>0</th>\n      <th>1</th>\n      <th>2</th>\n      <th>3</th>\n      <th>4</th>\n      <th>5</th>\n      <th>6</th>\n      <th>7</th>\n      <th>8</th>\n      <th>9</th>\n      <th>...</th>\n      <th>12278</th>\n      <th>12279</th>\n      <th>12280</th>\n      <th>12281</th>\n      <th>12282</th>\n      <th>12283</th>\n      <th>12284</th>\n      <th>12285</th>\n      <th>12286</th>\n      <th>12287</th>\n    </tr>\n  </thead>\n  <tbody>\n    <tr>\n      <th>0</th>\n      <td>90</td>\n      <td>167</td>\n      <td>206</td>\n      <td>96</td>\n      <td>173</td>\n      <td>212</td>\n      <td>101</td>\n      <td>179</td>\n      <td>222</td>\n      <td>106</td>\n      <td>...</td>\n      <td>2</td>\n      <td>0</td>\n      <td>2</td>\n      <td>2</td>\n      <td>0</td>\n      <td>2</td>\n      <td>2</td>\n      <td>0</td>\n      <td>2</td>\n      <td>2</td>\n    </tr>\n    <tr>\n      <th>1</th>\n      <td>43</td>\n      <td>44</td>\n      <td>40</td>\n      <td>48</td>\n      <td>42</td>\n      <td>39</td>\n      <td>39</td>\n      <td>37</td>\n      <td>33</td>\n      <td>31</td>\n      <td>...</td>\n      <td>66</td>\n      <td>63</td>\n      <td>67</td>\n      <td>85</td>\n      <td>59</td>\n      <td>64</td>\n      <td>80</td>\n      <td>19</td>\n      <td>26</td>\n      <td>39</td>\n    </tr>\n    <tr>\n      <th>2</th>\n      <td>54</td>\n      <td>45</td>\n      <td>40</td>\n      <td>59</td>\n      <td>45</td>\n      <td>41</td>\n      <td>58</td>\n      <td>47</td>\n      <td>42</td>\n      <td>68</td>\n      <td>...</td>\n      <td>154</td>\n      <td>0</td>\n      <td>169</td>\n      <td>173</td>\n      <td>4</td>\n      <td>192</td>\n      <td>193</td>\n      <td>11</td>\n      <td>175</td>\n      <td>180</td>\n    </tr>\n  </tbody>\n</table>\n<p>3 rows × 12288 columns</p>\n</div>"
     },
     "execution_count": 37,
     "metadata": {},
     "output_type": "execute_result"
    }
   ],
   "source": [
    "pd.DataFrame(X).head(3)"
   ],
   "metadata": {
    "collapsed": false,
    "pycharm": {
     "name": "#%%\n"
    }
   }
  },
  {
   "cell_type": "code",
   "execution_count": null,
   "outputs": [],
   "source": [],
   "metadata": {
    "collapsed": false,
    "pycharm": {
     "name": "#%%\n"
    }
   }
  }
 ],
 "metadata": {
  "kernelspec": {
   "display_name": "Python 3",
   "language": "python",
   "name": "python3"
  },
  "language_info": {
   "codemirror_mode": {
    "name": "ipython",
    "version": 2
   },
   "file_extension": ".py",
   "mimetype": "text/x-python",
   "name": "python",
   "nbconvert_exporter": "python",
   "pygments_lexer": "ipython2",
   "version": "2.7.6"
  }
 },
 "nbformat": 4,
 "nbformat_minor": 0
}